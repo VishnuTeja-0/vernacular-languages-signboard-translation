{
  "nbformat": 4,
  "nbformat_minor": 0,
  "metadata": {
    "colab": {
      "name": "TextTransliteration_MP.ipynb",
      "provenance": [],
      "collapsed_sections": []
    },
    "kernelspec": {
      "name": "python3",
      "display_name": "Python 3"
    },
    "language_info": {
      "name": "python"
    },
    "accelerator": "GPU"
  },
  "cells": [
    {
      "cell_type": "code",
      "metadata": {
        "id": "gMfhg-Gl1Acm"
      },
      "source": [
        "import torch\n",
        "import torch.nn as nn\n",
        "import torch.optim as optim\n",
        "from torch.autograd import Variable\n",
        "import torch.nn.functional as F\n",
        "import numpy as np\n",
        "\n",
        "# Instantiates the device to be used as GPU/CPU based on availability\n",
        "device_gpu = torch.device(\"cuda:0\" if torch.cuda.is_available() else \"cpu\")\n",
        "\n",
        "# Visualization tools\n",
        "import matplotlib.pyplot as plt\n",
        "import seaborn as sns\n",
        "from IPython.display import clear_output\n",
        "\n",
        "import random"
      ],
      "execution_count": null,
      "outputs": []
    },
    {
      "cell_type": "markdown",
      "metadata": {
        "id": "MF6Yg5MD1VT5"
      },
      "source": [
        "# Alphabets Setup"
      ]
    },
    {
      "cell_type": "code",
      "metadata": {
        "colab": {
          "base_uri": "https://localhost:8080/"
        },
        "id": "WY0MBOXp1JmY",
        "outputId": "d9a8fb09-d310-4c79-cc76-525c5412f71c"
      },
      "source": [
        "# English Alphabet Set\n",
        "# To enable us to write one hot encoded vectors for individual letters, and thus a vector-of-vectors representations of words, we give each letter in the alphabet a corresponding number\n",
        "# Since transliteration is not case sensitive, we'll not include small letters in our letter-space\n",
        "eng_alphabets = 'ABCDEFGHIJKLMNOPQRSTUVWXYZ'\n",
        "# Since we want our input to be of uniform size, we need to define a 'pad' character to fill out smaller words\n",
        "pad_char = '-PAD-'               \n",
        "\n",
        "# Assigns each character a numerical value\n",
        "eng_alpha2index = {pad_char: 0}\n",
        "for index, alpha in enumerate(eng_alphabets):\n",
        "    eng_alpha2index[alpha] = index+1\n",
        "\n",
        "print(eng_alpha2index)"
      ],
      "execution_count": null,
      "outputs": [
        {
          "output_type": "stream",
          "text": [
            "{'-PAD-': 0, 'A': 1, 'B': 2, 'C': 3, 'D': 4, 'E': 5, 'F': 6, 'G': 7, 'H': 8, 'I': 9, 'J': 10, 'K': 11, 'L': 12, 'M': 13, 'N': 14, 'O': 15, 'P': 16, 'Q': 17, 'R': 18, 'S': 19, 'T': 20, 'U': 21, 'V': 22, 'W': 23, 'X': 24, 'Y': 25, 'Z': 26}\n"
          ],
          "name": "stdout"
        }
      ]
    },
    {
      "cell_type": "code",
      "metadata": {
        "colab": {
          "base_uri": "https://localhost:8080/"
        },
        "id": "Pvd3N0YV1XDF",
        "outputId": "efb54b3a-709e-4d4a-cdee-ae98f0b6792f"
      },
      "source": [
        "# Hindi Alphabet Set\n",
        "# Hindi Unicode Hex Range is 2304:2432. (Source: https://sites.psu.edu/symbolcodes/languages/southasia/devanagari/devanagarichart/)\n",
        "\n",
        "hindi_alphabets = [chr(alpha) for alpha in range(2304, 2432)]\n",
        "hindi_alphabet_size = len(hindi_alphabets)\n",
        "\n",
        "hindi_alpha2index = {pad_char: 0}\n",
        "for index, alpha in enumerate(hindi_alphabets):\n",
        "    hindi_alpha2index[alpha] = index+1\n",
        "\n",
        "print(hindi_alpha2index)"
      ],
      "execution_count": null,
      "outputs": [
        {
          "output_type": "stream",
          "text": [
            "{'-PAD-': 0, 'ऀ': 1, 'ँ': 2, 'ं': 3, 'ः': 4, 'ऄ': 5, 'अ': 6, 'आ': 7, 'इ': 8, 'ई': 9, 'उ': 10, 'ऊ': 11, 'ऋ': 12, 'ऌ': 13, 'ऍ': 14, 'ऎ': 15, 'ए': 16, 'ऐ': 17, 'ऑ': 18, 'ऒ': 19, 'ओ': 20, 'औ': 21, 'क': 22, 'ख': 23, 'ग': 24, 'घ': 25, 'ङ': 26, 'च': 27, 'छ': 28, 'ज': 29, 'झ': 30, 'ञ': 31, 'ट': 32, 'ठ': 33, 'ड': 34, 'ढ': 35, 'ण': 36, 'त': 37, 'थ': 38, 'द': 39, 'ध': 40, 'न': 41, 'ऩ': 42, 'प': 43, 'फ': 44, 'ब': 45, 'भ': 46, 'म': 47, 'य': 48, 'र': 49, 'ऱ': 50, 'ल': 51, 'ळ': 52, 'ऴ': 53, 'व': 54, 'श': 55, 'ष': 56, 'स': 57, 'ह': 58, 'ऺ': 59, 'ऻ': 60, '़': 61, 'ऽ': 62, 'ा': 63, 'ि': 64, 'ी': 65, 'ु': 66, 'ू': 67, 'ृ': 68, 'ॄ': 69, 'ॅ': 70, 'ॆ': 71, 'े': 72, 'ै': 73, 'ॉ': 74, 'ॊ': 75, 'ो': 76, 'ौ': 77, '्': 78, 'ॎ': 79, 'ॏ': 80, 'ॐ': 81, '॑': 82, '॒': 83, '॓': 84, '॔': 85, 'ॕ': 86, 'ॖ': 87, 'ॗ': 88, 'क़': 89, 'ख़': 90, 'ग़': 91, 'ज़': 92, 'ड़': 93, 'ढ़': 94, 'फ़': 95, 'य़': 96, 'ॠ': 97, 'ॡ': 98, 'ॢ': 99, 'ॣ': 100, '।': 101, '॥': 102, '०': 103, '१': 104, '२': 105, '३': 106, '४': 107, '५': 108, '६': 109, '७': 110, '८': 111, '९': 112, '॰': 113, 'ॱ': 114, 'ॲ': 115, 'ॳ': 116, 'ॴ': 117, 'ॵ': 118, 'ॶ': 119, 'ॷ': 120, 'ॸ': 121, 'ॹ': 122, 'ॺ': 123, 'ॻ': 124, 'ॼ': 125, 'ॽ': 126, 'ॾ': 127, 'ॿ': 128}\n"
          ],
          "name": "stdout"
        }
      ]
    },
    {
      "cell_type": "markdown",
      "metadata": {
        "id": "YnDIYwo11dKg"
      },
      "source": [
        "# Helper Functions for Data Preprocessing"
      ]
    },
    {
      "cell_type": "code",
      "metadata": {
        "id": "AxpQmJD81ZG6"
      },
      "source": [
        "import re\n",
        "non_eng_letters_regex = re.compile('[^a-zA-Z ]')    # Regex which returns all characters which are not small or capital letters, or spaces\n",
        "\n",
        "# Function to remove all English non-letters from a line\n",
        "def cleanEnglishVocab(line):\n",
        "    line = line.replace('-', ' ').replace(',', ' ').upper()    # Replaces hyphens and commas with spaces from line, so as to get spaces as the uniform delimiter\n",
        "    line = non_eng_letters_regex.sub('', line)                 # Applies above regex on line, replacing every non-letter character with nothing\n",
        "    return line.split()                                        # Splits the line by delimiter (space) into a list and returns it\n",
        "\n",
        "# Function to remove all Hindi non-letters from a line\n",
        "# Since we do not have defined regex for Hindi, we'll have to do the above process manually\n",
        "def cleanHindiVocab(line):\n",
        "    line = line.replace('-', ' ').replace(',', ' ')            # Replaces hyphens and commas with spaces from line, so as to get spaces as the uniform delimiter\n",
        "    # Builds a string by dropping any character which is not in the Devanagari script unicode range, and is not a space\n",
        "    cleaned_line = ''\n",
        "    for char in line:\n",
        "        if char in hindi_alpha2index or char == ' ':\n",
        "            cleaned_line += char\n",
        "    return cleaned_line.split()                                # Splits the line by delimiter (space) into a list and returns it"
      ],
      "execution_count": null,
      "outputs": []
    },
    {
      "cell_type": "markdown",
      "metadata": {
        "id": "helO43BLOZkE"
      },
      "source": [
        "## Dataset Loading"
      ]
    },
    {
      "cell_type": "code",
      "metadata": {
        "id": "BZZq7PUj1iiO"
      },
      "source": [
        "from torch.utils.data import Dataset           # We import and extend the dataset class from torch, so we can use its functions while building our own dataset\n",
        "import xml.etree.ElementTree as ET             # Library to work with XML files\n",
        "\n",
        "# Class to define and instantiate a dataset\n",
        "class TransliterationDataLoader(Dataset):\n",
        "    def __init__(self, filename):\n",
        "        self.eng_words, self.hindi_words = self.readXmlDataset(filename, cleanHindiVocab)    # Initializes the English and Hindi word sets from file using 'readXmlDataset()' function\n",
        "        self.shuffle_indices = list(range(len(self.eng_words)))                              # Shuffles the indexes around for variance during training\n",
        "        random.shuffle(self.shuffle_indices)\n",
        "        self.shuffle_start_index = 0\n",
        "\n",
        "    # Function to return length of word    \n",
        "    def __len__(self):\n",
        "        return len(self.eng_words)\n",
        "    \n",
        "    # Function to return word from language words-list, given index\n",
        "    def __getitem__(self, idx):\n",
        "        return self.eng_words[idx], self.hindi_words[idx]\n",
        "    \n",
        "    # Function to parse XML file to extract English and Hindi text words\n",
        "    # An XML document data is hierarchical on purpose to enable easy parsing\n",
        "    def readXmlDataset(self, filename, lang_vocab_cleaner):\n",
        "        transliterationCorpus = ET.parse(filename).getroot()    # Parses every root node (every point)\n",
        "        lang1_words = []                                        # List of English words\n",
        "        lang2_words = []                                        # List of Hindi words\n",
        "\n",
        "        for line in transliterationCorpus:\n",
        "            wordlist1 = cleanEnglishVocab(line[0].text)         # The first tag of a node contains English text\n",
        "            wordlist2 = lang_vocab_cleaner(line[1].text)        # The second tag of a node contains Hindi text\n",
        "\n",
        "            # Skip noisy data\n",
        "            # Any data where the length of the Englsh and Hindi strings doesn't match are outliers (with letters / sounds fused together) and are thus not considered\n",
        "            if len(wordlist1) != len(wordlist2):\n",
        "                print('Skipping: ', line[0].text, ' - ', line[1].text)  \n",
        "                continue\n",
        "\n",
        "            # Pass the words of each language through respective pre-processing functions, and append the vector representation to the lists \n",
        "            for word in wordlist1:\n",
        "                lang1_words.append(word)\n",
        "            for word in wordlist2:\n",
        "                lang2_words.append(word)\n",
        " \n",
        "        return lang1_words, lang2_words                         # Returns list for both languages\n",
        "    \n",
        "    # Gets a sample random word from words-list by using the '__getitem__()' function\n",
        "    def get_random_sample(self):\n",
        "        return self.__getitem__(np.random.randint(len(self.eng_words)))\n",
        "    \n",
        "    # Starts from a random index and loops over the whole array to gather 'batch_size' number of datapoints\n",
        "    def get_batch_from_array(self, batch_size, array):\n",
        "        end = self.shuffle_start_index + batch_size\n",
        "        batch = []\n",
        "        # If the batch size from the chosen index exceeds the length of the array, we load the rest of the back by looping back to the start of the array\n",
        "        if end >= len(self.eng_words):\n",
        "            batch = [array[i] for i in self.shuffle_indices[0:end%len(self.eng_words)]]\n",
        "            end = len(self.eng_words)\n",
        "        return batch + [array[i] for i in self.shuffle_indices[self.shuffle_start_index : end]]\n",
        "    \n",
        "    # Loads a data batch\n",
        "    def get_batch(self, batch_size, postprocess = True):\n",
        "        eng_batch = self.get_batch_from_array(batch_size, self.eng_words)       # Gets a random batch of some size for English words\n",
        "        hindi_batch = self.get_batch_from_array(batch_size, self.hindi_words)   # Gets a random batch of some size for Hindi words\n",
        "        self.shuffle_start_index += batch_size + 1\n",
        "        \n",
        "        # Reshuffle if 1 epoch is complete\n",
        "        if self.shuffle_start_index >= len(self.eng_words):\n",
        "            random.shuffle(self.shuffle_indices)\n",
        "            self.shuffle_start_index = 0\n",
        "            \n",
        "        return eng_batch, hindi_batch      "
      ],
      "execution_count": null,
      "outputs": []
    },
    {
      "cell_type": "code",
      "metadata": {
        "id": "4PFdTYnPOkIe"
      },
      "source": [
        "# Applying above dataloader class onto uploaded XML files\n",
        "# Training set has 13937 datapoints while Test set has 1000 datapoints\n",
        "train_data = TransliterationDataLoader('/content/NEWS2012-Training-EnHi-13937.xml')\n",
        "test_data = TransliterationDataLoader('/content/NEWS2012-Ref-EnHi-1000.xml')"
      ],
      "execution_count": null,
      "outputs": []
    },
    {
      "cell_type": "code",
      "metadata": {
        "id": "y6BRmYl0OlZo",
        "colab": {
          "base_uri": "https://localhost:8080/"
        },
        "outputId": "212e7898-0968-48a5-d519-2b8dd3f1615d"
      },
      "source": [
        "# Basic Data Visualization\n",
        "print(\"Train Set Size:\\t\", len(train_data))\n",
        "print(\"Test Set Size:\\t\", len(test_data))\n",
        "\n",
        "print('\\nSample data from train-set:')\n",
        "for i in range(10):\n",
        "    eng, hindi = train_data.get_random_sample()\n",
        "    print(eng + ' - ' + hindi)"
      ],
      "execution_count": null,
      "outputs": [
        {
          "output_type": "stream",
          "text": [
            "Train Set Size:\t 20641\n",
            "Test Set Size:\t 1000\n",
            "\n",
            "Sample data from train-set:\n",
            "TOIYABE - तोईयाबे\n",
            "TOHDA - टोहड़ा\n",
            "BELAGAAM - बेलगाम\n",
            "HAMMAM - हमाम\n",
            "IRFAN - इरफान\n",
            "GEORGE - जॉर्ज\n",
            "HOGA - होगा\n",
            "AWRA - अव्रा\n",
            "CHIRAAG - चिराग\n",
            "VAASANTEE - वासंती\n"
          ],
          "name": "stdout"
        }
      ]
    },
    {
      "cell_type": "markdown",
      "metadata": {
        "id": "2vbf9pfTO_0x"
      },
      "source": [
        "## Encoding The Words"
      ]
    },
    {
      "cell_type": "code",
      "metadata": {
        "id": "CmYs0UwQPAgR"
      },
      "source": [
        "# This is for the input word, which is in Hindi\n",
        "# Each word will be represented as a vector of one-hot encoded vectors\n",
        "def word_rep(word, letter2index, device = 'cpu'):\n",
        "    rep = torch.zeros(len(word)+1, 1, len(letter2index)).to(device)\n",
        "    for letter_index, letter in enumerate(word):\n",
        "        pos = letter2index[letter]\n",
        "        rep[letter_index][0][pos] = 1\n",
        "    pad_pos = letter2index[pad_char]\n",
        "    rep[letter_index+1][0][pad_pos] = 1\n",
        "    return rep\n",
        "\n",
        "# This is for the output word, which is in English\n",
        "# We shall treat this as a classification task, that is, each letter (one-hot encoded vector) from Hindi input is classified as one of 26 characters in the English alphabet\n",
        "# Thus, the output representation is a vector of class labels\n",
        "def gt_rep(word, letter2index, device = 'cpu'):\n",
        "    gt_rep = torch.zeros([len(word)+1, 1], dtype=torch.long).to(device)\n",
        "    for letter_index, letter in enumerate(word):\n",
        "        pos = letter2index[letter]\n",
        "        gt_rep[letter_index][0] = pos\n",
        "    gt_rep[letter_index+1][0] = letter2index[pad_char]\n",
        "    return gt_rep"
      ],
      "execution_count": null,
      "outputs": []
    },
    {
      "cell_type": "code",
      "metadata": {
        "id": "a9yFvHCtPE9L",
        "colab": {
          "base_uri": "https://localhost:8080/"
        },
        "outputId": "f14466e5-8d7f-4bd9-a00f-99b8c4dc1854"
      },
      "source": [
        "eng, hindi = train_data.get_random_sample()\n",
        "hindi_rep = word_rep(hindi, hindi_alpha2index)\n",
        "print(hindi, hindi_rep)"
      ],
      "execution_count": null,
      "outputs": [
        {
          "output_type": "stream",
          "text": [
            "इंद्रायणी tensor([[[0., 0., 0.,  ..., 0., 0., 0.]],\n",
            "\n",
            "        [[0., 0., 0.,  ..., 0., 0., 0.]],\n",
            "\n",
            "        [[0., 0., 0.,  ..., 0., 0., 0.]],\n",
            "\n",
            "        ...,\n",
            "\n",
            "        [[0., 0., 0.,  ..., 0., 0., 0.]],\n",
            "\n",
            "        [[0., 0., 0.,  ..., 0., 0., 0.]],\n",
            "\n",
            "        [[1., 0., 0.,  ..., 0., 0., 0.]]])\n"
          ],
          "name": "stdout"
        }
      ]
    },
    {
      "cell_type": "code",
      "metadata": {
        "id": "mEp8DRY1PIHV",
        "colab": {
          "base_uri": "https://localhost:8080/"
        },
        "outputId": "16ec8e27-04aa-4947-fdae-38b511d3668c"
      },
      "source": [
        "english_gt = gt_rep(eng, eng_alpha2index)\n",
        "print(eng, english_gt)"
      ],
      "execution_count": null,
      "outputs": [
        {
          "output_type": "stream",
          "text": [
            "INDRAYANI tensor([[ 9],\n",
            "        [14],\n",
            "        [ 4],\n",
            "        [18],\n",
            "        [ 1],\n",
            "        [25],\n",
            "        [ 1],\n",
            "        [14],\n",
            "        [ 9],\n",
            "        [ 0]])\n"
          ],
          "name": "stdout"
        }
      ]
    },
    {
      "cell_type": "markdown",
      "metadata": {
        "id": "MWHrklkXPWha"
      },
      "source": [
        "## Network Architecture"
      ]
    },
    {
      "cell_type": "code",
      "metadata": {
        "id": "8F1yuk4pPYzt"
      },
      "source": [
        "# Encoder Decoder Model using GRUs with Attention Mechanism\n",
        "MAX_OUTPUT_CHARS = 30\n",
        "class Transliteration_EncoderDecoder_Attention(nn.Module):\n",
        "    \n",
        "    def __init__(self, input_size, hidden_size, output_size, verbose=False):\n",
        "        super(Transliteration_EncoderDecoder_Attention, self).__init__()\n",
        "        \n",
        "        self.hidden_size = hidden_size\n",
        "        self.output_size = output_size\n",
        "        \n",
        "        self.encoder_rnn_cell = nn.GRU(input_size, hidden_size)\n",
        "        # Size is increased, as hidden layer at decoder timestep will be augmented with the context vector\n",
        "        self.decoder_rnn_cell = nn.GRU(hidden_size*2, hidden_size)\n",
        "        \n",
        "        self.h2o = nn.Linear(hidden_size, output_size)\n",
        "        self.softmax = nn.LogSoftmax(dim=2)\n",
        "        \n",
        "        # Parameters for attention mechanism\n",
        "\n",
        "        # Weight of encoder state vector from current timestep  (whose probability in the distribution is being computed)\n",
        "        self.U = nn.Linear(self.hidden_size, self.hidden_size)                  \n",
        "        # Weight of decoder state vector from previous timestamp\n",
        "        self.W = nn.Linear(self.hidden_size, self.hidden_size)                  \n",
        "        # Weight applied to the non-linearity applied to attention function (non-linearity applied to above two quantities)\n",
        "        self.attn = nn.Linear(self.hidden_size, 1)\n",
        "        # Linear layer converting decoder output at timestamp to size of hidden vector (since we will concatenate context vector with this quantity)\n",
        "        self.out2hidden = nn.Linear(self.output_size, self.hidden_size)            \n",
        "        \n",
        "        self.verbose = verbose\n",
        "        \n",
        "    def forward(self, input, max_output_chars = MAX_OUTPUT_CHARS, device = 'cpu', ground_truth = None):\n",
        "        \n",
        "        # encoder\n",
        "        encoder_outputs, hidden = self.encoder_rnn_cell(input)\n",
        "        # We resize the encoder output to be used in computing context vector\n",
        "        encoder_outputs = encoder_outputs.view(-1, self.hidden_size)        \n",
        "        \n",
        "        if self.verbose:\n",
        "            print('Encoder output', encoder_outputs.shape)\n",
        "        \n",
        "        # decoder\n",
        "        decoder_state = hidden\n",
        "        decoder_input = torch.zeros(1, 1, self.output_size).to(device)\n",
        "        \n",
        "        outputs = []\n",
        "        # Applying coefficient to encoder output\n",
        "        U = self.U(encoder_outputs)\n",
        "        \n",
        "        if self.verbose:\n",
        "            print('Decoder state', decoder_state.shape)\n",
        "            print('Decoder intermediate input', decoder_input.shape)\n",
        "            print('U * Encoder output', U.shape)\n",
        "        \n",
        "        # Generating characters timestep by timestep\n",
        "        for i in range(max_output_chars):\n",
        "            \n",
        "            # Applying coefficient to decoder state, and resizing for addition with encoder output\n",
        "            W = self.W(decoder_state.view(1, -1).repeat(encoder_outputs.shape[0], 1))\n",
        "            # Applying coefficient over the attention function, which in turn is a non-linearity over sum of encoder and decoder states\n",
        "            V = self.attn(torch.tanh(U + W))\n",
        "            # Applying softmax function over V to get a probability distribution\n",
        "            attn_weights = F.softmax(V.view(1, -1), dim = 1) \n",
        "            \n",
        "            # Printing out the dimensions of the attention parameters\n",
        "            if self.verbose:\n",
        "                print('W * Decoder state', W.shape)\n",
        "                print('V', V.shape)\n",
        "                print('Attn', attn_weights.shape)\n",
        "            \n",
        "            # Applying attention probability distribution as weights to the respective encoder outputs\n",
        "            attn_applied = torch.bmm(attn_weights.unsqueeze(0), encoder_outputs.unsqueeze(0))\n",
        "            # Applying dimension transformation on decoder output from previous timestamp (to be passed as input to current timestamp)\n",
        "            # This allows us to concatenate it with the context vector obtained from the attention mechanism\n",
        "            embedding = self.out2hidden(decoder_input)\n",
        "            # Concatenation decoder input and attention output to create the final input it to current timestamp of decoder\n",
        "            decoder_input = torch.cat((embedding[0], attn_applied[0]), 1).unsqueeze(0)\n",
        "            \n",
        "            # Printing dimensions of context vector and new decoder input\n",
        "            if self.verbose:\n",
        "                print('Attn LC', attn_applied.shape)\n",
        "                print('Decoder input', decoder_input.shape)\n",
        "                \n",
        "            out, decoder_state = self.decoder_rnn_cell(decoder_input, decoder_state)\n",
        "            \n",
        "            if self.verbose:\n",
        "                print('Decoder intermediate output', out.shape)\n",
        "                \n",
        "            out = self.h2o(decoder_state)\n",
        "            out = self.softmax(out)\n",
        "            outputs.append(out.view(1, -1))\n",
        "            \n",
        "            if self.verbose:\n",
        "                print('Decoder output', out.shape)\n",
        "                self.verbose = False\n",
        "            \n",
        "            max_idx = torch.argmax(out, 2, keepdim=True)\n",
        "            if not ground_truth is None:\n",
        "                max_idx = ground_truth[i].reshape(1, 1, 1)\n",
        "            one_hot = torch.zeros(out.shape, device=device)\n",
        "            one_hot.scatter_(2, max_idx, 1) \n",
        "            \n",
        "            decoder_input = one_hot.detach()\n",
        "            \n",
        "        return outputs"
      ],
      "execution_count": null,
      "outputs": []
    },
    {
      "cell_type": "code",
      "metadata": {
        "id": "iTtdMXHokTYB"
      },
      "source": [
        "# Function to draw inference for a single word when passed through model\n",
        "def infer(net, word, char_limit, device = 'cpu'):\n",
        "    input = word_rep(word, hindi_alpha2index, device)    # Generates numerical representation of input word\n",
        "    return net(input, char_limit)                      # Passes this representation to model"
      ],
      "execution_count": null,
      "outputs": []
    },
    {
      "cell_type": "code",
      "metadata": {
        "id": "RziV6EaCPkSq"
      },
      "source": [
        "net_attn = Transliteration_EncoderDecoder_Attention(len(hindi_alpha2index), 256, len(eng_alpha2index), verbose=True)"
      ],
      "execution_count": null,
      "outputs": []
    },
    {
      "cell_type": "code",
      "metadata": {
        "id": "VeQUsoUxPluQ",
        "colab": {
          "base_uri": "https://localhost:8080/"
        },
        "outputId": "e25301b8-25ca-4f96-c3ab-e31e031ae698"
      },
      "source": [
        "# Dimensional inference\n",
        "out = infer(net_attn, 'उसके', 30)"
      ],
      "execution_count": null,
      "outputs": [
        {
          "output_type": "stream",
          "text": [
            "Encoder output torch.Size([5, 256])\n",
            "Decoder state torch.Size([1, 1, 256])\n",
            "Decoder intermediate input torch.Size([1, 1, 27])\n",
            "U * Encoder output torch.Size([5, 256])\n",
            "W * Decoder state torch.Size([5, 256])\n",
            "V torch.Size([5, 1])\n",
            "Attn torch.Size([1, 5])\n",
            "Attn LC torch.Size([1, 1, 256])\n",
            "Decoder input torch.Size([1, 1, 512])\n",
            "Decoder intermediate output torch.Size([1, 1, 256])\n",
            "Decoder output torch.Size([1, 1, 27])\n"
          ],
          "name": "stdout"
        }
      ]
    },
    {
      "cell_type": "code",
      "metadata": {
        "id": "JxuJdLL0Pofz",
        "colab": {
          "base_uri": "https://localhost:8080/"
        },
        "outputId": "e86f63dc-145a-44b8-c33b-ab06789bd21b"
      },
      "source": [
        "# Running inference on above example (input 'INDIA') on untrained model\n",
        "print(len(out))\n",
        "for i in range(len(out)):\n",
        "    print(out[i].shape, list(hindi_alpha2index.keys())[list(hindi_alpha2index.values()).index(torch.argmax(out[i]))])"
      ],
      "execution_count": null,
      "outputs": [
        {
          "output_type": "stream",
          "text": [
            "30\n",
            "torch.Size([1, 27]) ग\n",
            "torch.Size([1, 27]) अ\n",
            "torch.Size([1, 27]) अ\n",
            "torch.Size([1, 27]) अ\n",
            "torch.Size([1, 27]) अ\n",
            "torch.Size([1, 27]) अ\n",
            "torch.Size([1, 27]) अ\n",
            "torch.Size([1, 27]) अ\n",
            "torch.Size([1, 27]) अ\n",
            "torch.Size([1, 27]) अ\n",
            "torch.Size([1, 27]) अ\n",
            "torch.Size([1, 27]) अ\n",
            "torch.Size([1, 27]) अ\n",
            "torch.Size([1, 27]) अ\n",
            "torch.Size([1, 27]) अ\n",
            "torch.Size([1, 27]) अ\n",
            "torch.Size([1, 27]) अ\n",
            "torch.Size([1, 27]) अ\n",
            "torch.Size([1, 27]) अ\n",
            "torch.Size([1, 27]) अ\n",
            "torch.Size([1, 27]) अ\n",
            "torch.Size([1, 27]) अ\n",
            "torch.Size([1, 27]) अ\n",
            "torch.Size([1, 27]) अ\n",
            "torch.Size([1, 27]) अ\n",
            "torch.Size([1, 27]) अ\n",
            "torch.Size([1, 27]) अ\n",
            "torch.Size([1, 27]) अ\n",
            "torch.Size([1, 27]) अ\n",
            "torch.Size([1, 27]) अ\n"
          ],
          "name": "stdout"
        }
      ]
    },
    {
      "cell_type": "markdown",
      "metadata": {
        "id": "Ko86c5rTPud_"
      },
      "source": [
        "# Training"
      ]
    },
    {
      "cell_type": "markdown",
      "metadata": {
        "id": "BSquppNLPxT7"
      },
      "source": [
        "## Core Trainer"
      ]
    },
    {
      "cell_type": "code",
      "metadata": {
        "id": "N6gJbHR3PvPY"
      },
      "source": [
        "# Function to execute training of model\n",
        "def train_batch(net, opt, criterion, batch_size, device = 'cpu', teacher_force = False):\n",
        "    \n",
        "    # Pushing network to device\n",
        "    net.train().to(device)\n",
        "    # Setting all gradients to zero\n",
        "    opt.zero_grad()\n",
        "    # Getting a randomly generated batch of training input and output\n",
        "    eng_batch, hindi_batch = train_data.get_batch(batch_size)\n",
        "    \n",
        "    total_loss = 0\n",
        "    # Iterating through batch\n",
        "    for i in range(batch_size):\n",
        "        \n",
        "        # Numerical representation of English input\n",
        "        input = word_rep(hindi_batch[i], hindi_alpha2index, device)\n",
        "        # Numerical representation of the Hindi output\n",
        "        gt = gt_rep(eng_batch[i], eng_alpha2index, device)\n",
        "        # Calling model, with ground truth passed as additional parameter if teacher forcing (will be directly used during training)\n",
        "        outputs = net(input, gt.shape[0], device, ground_truth = gt if teacher_force else None)\n",
        "        \n",
        "        # Iterating through parameters output by model\n",
        "        for index, output in enumerate(outputs):\n",
        "            # Applying loss function\n",
        "            loss = criterion(output, gt[index]) / batch_size\n",
        "            # Computing gradients, 'retain_graph' parameter defines whether or not further training will be done to the model, which can be plotted accordingly on same graph\n",
        "            loss.backward(retain_graph = True)\n",
        "            # Aggregating loss\n",
        "            total_loss += loss\n",
        "\n",
        "    # Applying gradients at the end of batch\n",
        "    opt.step()\n",
        "    # Returns average loss across batch\n",
        "    return total_loss/batch_size"
      ],
      "execution_count": null,
      "outputs": []
    },
    {
      "cell_type": "markdown",
      "metadata": {
        "id": "b9ldaDA0P6rB"
      },
      "source": [
        "## Training Helper"
      ]
    },
    {
      "cell_type": "code",
      "metadata": {
        "id": "8k-IMiIOP0pA"
      },
      "source": [
        "# Function that sets up the hyperparameters for the training and calls the core training function with these hyperparameters\n",
        "# It also plots the loss per iteration as a graph\n",
        "def train_setup(net, lr = 0.01, n_batches = 100, batch_size = 10, momentum = 0.9, display_freq=5, device = 'cpu'):\n",
        "    \n",
        "    # Creating network object and moving it to device\n",
        "    net = net.to(device)\n",
        "    # Defining loss function (cross-entropy loss here)\n",
        "    criterion = nn.NLLLoss(ignore_index = -1)\n",
        "    # Defining optimization function (Adam, here)\n",
        "    opt = optim.Adam(net.parameters(), lr=lr)\n",
        "    # Defining the number of batches for which teacher forcing will be carried out (here, it is for 1/3rd of the total batches)\n",
        "    teacher_force_upto = n_batches//3\n",
        "    \n",
        "    loss_arr = np.zeros(n_batches + 1)\n",
        "    \n",
        "    # Iterating over batches\n",
        "    for i in range(n_batches):\n",
        "        # Training function is called with defined hyperparameters, with teacher force value being conditional on batch number\n",
        "        # Average loss after training on batch i is stored  \n",
        "        loss_arr[i+1] = (loss_arr[i]*i + train_batch(net, opt, criterion, batch_size, device = device, teacher_force = i<teacher_force_upto ))/(i + 1)\n",
        "        \n",
        "        # Plots Iteration v Loss graph\n",
        "        if i%display_freq == display_freq-1:\n",
        "            clear_output(wait=True)\n",
        "            \n",
        "            print('Iteration', i, 'Loss', loss_arr[i])\n",
        "            plt.figure()\n",
        "            plt.plot(loss_arr[1:i], '-*')\n",
        "            plt.xlabel('Iteration')\n",
        "            plt.ylabel('Loss')\n",
        "            plt.show()\n",
        "            print('\\n\\n')\n",
        "    \n",
        "    # Checkpoints training for these parameters\n",
        "    torch.save(net, 'model.pt')\n",
        "    # Returns the stored losses of every batch as a list\n",
        "    return loss_arr"
      ],
      "execution_count": null,
      "outputs": []
    },
    {
      "cell_type": "markdown",
      "metadata": {
        "id": "tkdoadkjQEMV"
      },
      "source": [
        "## Training"
      ]
    },
    {
      "cell_type": "code",
      "metadata": {
        "id": "f0HK6ap-P9Pp"
      },
      "source": [
        "net = Transliteration_EncoderDecoder_Attention(len(hindi_alpha2index), 256, len(eng_alpha2index))"
      ],
      "execution_count": null,
      "outputs": []
    },
    {
      "cell_type": "code",
      "metadata": {
        "id": "vDh9ubdbQLdX",
        "colab": {
          "base_uri": "https://localhost:8080/",
          "height": 347
        },
        "outputId": "77b44865-e014-4c95-a97e-db0bf54dc5fd"
      },
      "source": [
        "loss_history = train_setup(net, lr=0.025, n_batches=500, batch_size = 64, display_freq=100, device = device_gpu)"
      ],
      "execution_count": null,
      "outputs": [
        {
          "output_type": "stream",
          "text": [
            "Iteration 499 Loss 0.1799733191728592\n"
          ],
          "name": "stdout"
        },
        {
          "output_type": "display_data",
          "data": {
            "image/png": "[encoded data removed]",
            "text/plain": [
              "<Figure size 432x288 with 1 Axes>"
            ]
          },
          "metadata": {
            "tags": [],
            "needs_background": "light"
          }
        },
        {
          "output_type": "stream",
          "text": [
            "\n",
            "\n",
            "\n"
          ],
          "name": "stdout"
        }
      ]
    },
    {
      "cell_type": "markdown",
      "metadata": {
        "id": "36o5zRjIQV7j"
      },
      "source": [
        "# Inference"
      ]
    },
    {
      "cell_type": "code",
      "metadata": {
        "id": "lYHj-tKTQUa9"
      },
      "source": [
        "# Function which draws inference for a given word using a given model\n",
        "def test(net, word, device = 'cpu'):\n",
        "    net = net.eval().to(device)\n",
        "    outputs = infer(net, word, 30, device)\n",
        "    eng_output = ''\n",
        "    for out in outputs:\n",
        "        val, indices = out.topk(1)\n",
        "        index = indices.tolist()[0][0]\n",
        "        if index == 0:\n",
        "            break\n",
        "        eng_char = eng_alphabets[index+1]\n",
        "        eng_output += eng_char\n",
        "    print(word + ' - ' + eng_output)\n",
        "    return eng_output"
      ],
      "execution_count": null,
      "outputs": []
    },
    {
      "cell_type": "code",
      "metadata": {
        "id": "0FTSwY3TQYhr"
      },
      "source": [
        "# Function which gives accuracy of model given inference of the above 'test' function (which it calls) on the test data\n",
        "def calc_accuracy(net, device = 'cpu'):\n",
        "    net = net.eval().to(device)\n",
        "    predictions = []\n",
        "    accuracy = 0\n",
        "    for i in range(len(test_data)):\n",
        "        eng, hindi = test_data[i]\n",
        "        gt = gt_rep(eng, eng_alpha2index, device)\n",
        "        outputs = infer(net, hindi, gt.shape[0], device)\n",
        "        correct = 0\n",
        "        for index, out in enumerate(outputs):\n",
        "            val, indices = out.topk(1)\n",
        "            eng_pos = indices.tolist()[0]\n",
        "            if eng_pos[0] == gt[index][0]:\n",
        "                correct += 1\n",
        "        \n",
        "        accuracy += correct/gt.shape[0]\n",
        "    accuracy /= len(test_data)\n",
        "    return accuracy"
      ],
      "execution_count": null,
      "outputs": []
    },
    {
      "cell_type": "code",
      "metadata": {
        "id": "lKxX0BdlQaiu",
        "colab": {
          "base_uri": "https://localhost:8080/"
        },
        "outputId": "f49441cf-cc7a-4073-f086-8778021d2133"
      },
      "source": [
        "accuracy = calc_accuracy(net) * 100\n",
        "print('Accuracy : ', accuracy)"
      ],
      "execution_count": null,
      "outputs": [
        {
          "output_type": "stream",
          "text": [
            "Accuracy :  51.02960146063088\n"
          ],
          "name": "stdout"
        }
      ]
    },
    {
      "cell_type": "code",
      "metadata": {
        "id": "NTm--N1fPefe"
      },
      "source": [
        "out = infer(net, 'उसके', 30)"
      ],
      "execution_count": null,
      "outputs": []
    },
    {
      "cell_type": "code",
      "metadata": {
        "colab": {
          "base_uri": "https://localhost:8080/"
        },
        "id": "nQzYKkv-Wm-4",
        "outputId": "af096abc-156a-4428-b2be-aae2d435416d"
      },
      "source": [
        "print(len(out))\n",
        "for i in range(len(out)):\n",
        "    print(out[i].shape, list(eng_alpha2index.keys())[list(eng_alpha2index.values()).index(torch.argmax(out[i]))])"
      ],
      "execution_count": null,
      "outputs": [
        {
          "output_type": "stream",
          "text": [
            "30\n",
            "torch.Size([1, 27]) O\n",
            "torch.Size([1, 27]) S\n",
            "torch.Size([1, 27]) K\n",
            "torch.Size([1, 27]) E\n",
            "torch.Size([1, 27]) -PAD-\n",
            "torch.Size([1, 27]) -PAD-\n",
            "torch.Size([1, 27]) -PAD-\n",
            "torch.Size([1, 27]) -PAD-\n",
            "torch.Size([1, 27]) -PAD-\n",
            "torch.Size([1, 27]) -PAD-\n",
            "torch.Size([1, 27]) -PAD-\n",
            "torch.Size([1, 27]) -PAD-\n",
            "torch.Size([1, 27]) -PAD-\n",
            "torch.Size([1, 27]) -PAD-\n",
            "torch.Size([1, 27]) -PAD-\n",
            "torch.Size([1, 27]) -PAD-\n",
            "torch.Size([1, 27]) -PAD-\n",
            "torch.Size([1, 27]) -PAD-\n",
            "torch.Size([1, 27]) -PAD-\n",
            "torch.Size([1, 27]) -PAD-\n",
            "torch.Size([1, 27]) -PAD-\n",
            "torch.Size([1, 27]) -PAD-\n",
            "torch.Size([1, 27]) -PAD-\n",
            "torch.Size([1, 27]) -PAD-\n",
            "torch.Size([1, 27]) -PAD-\n",
            "torch.Size([1, 27]) -PAD-\n",
            "torch.Size([1, 27]) -PAD-\n",
            "torch.Size([1, 27]) -PAD-\n",
            "torch.Size([1, 27]) -PAD-\n",
            "torch.Size([1, 27]) -PAD-\n"
          ],
          "name": "stdout"
        }
      ]
    },
    {
      "cell_type": "code",
      "metadata": {
        "id": "9-qhPGSOMyr_",
        "colab": {
          "base_uri": "https://localhost:8080/"
        },
        "outputId": "339461ff-4b5f-4af9-cf23-f9a346d34df6"
      },
      "source": [
        "print('keep_me_alive')"
      ],
      "execution_count": null,
      "outputs": [
        {
          "output_type": "stream",
          "text": [
            "keep_me_alive\n"
          ],
          "name": "stdout"
        }
      ]
    },
    {
      "cell_type": "code",
      "metadata": {
        "id": "GK_N8SK3Q83t"
      },
      "source": [
        ""
      ],
      "execution_count": null,
      "outputs": []
    }
  ]
}