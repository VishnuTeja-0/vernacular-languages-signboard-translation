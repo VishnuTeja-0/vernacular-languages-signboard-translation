{
 "cells": [
  {
   "cell_type": "code",
   "execution_count": 6,
   "metadata": {},
   "outputs": [],
   "source": [
    "import torch\n",
    "import pandas as pd\n",
    "import matplotlib.pyplot as plt"
   ]
  },
  {
   "cell_type": "code",
   "execution_count": 6,
   "metadata": {},
   "outputs": [
    {
     "data": {
      "text/plain": [
       "65536"
      ]
     },
     "execution_count": 6,
     "metadata": {},
     "output_type": "execute_result"
    }
   ],
   "source": [
    "128*128*4"
   ]
  },
  {
   "cell_type": "code",
   "execution_count": 29,
   "metadata": {},
   "outputs": [
    {
     "name": "stdout",
     "output_type": "stream",
     "text": [
      "text_mask.sum() tensor(184)\n",
      "torch.Size([4, 1, 3, 3]) torch.Size([4, 8, 3, 3])\n",
      "torch.Size([4, 8, 3, 3])\n"
     ]
    }
   ],
   "source": [
    "m = 4\n",
    "Y_true_score = torch.randint(low=0, high=2, size=(m, 1, 3, 3))\n",
    "text_mask = Y_true_score\n",
    "text_mask = text_mask.expand(-1, 8, -1, -1)\n",
    "print(\"text_mask.sum()\", text_mask.sum())\n",
    "Y_true_geometry = torch.randint(low=0, high=512, size=(m, 8, 3, 3))\n",
    "print(Y_true_score.shape, text_mask.shape)\n",
    "print(Y_true_geometry.shape)"
   ]
  },
  {
   "cell_type": "code",
   "execution_count": 30,
   "metadata": {},
   "outputs": [
    {
     "data": {
      "text/plain": [
       "torch.Size([4, 8, 3, 3])"
      ]
     },
     "execution_count": 30,
     "metadata": {},
     "output_type": "execute_result"
    }
   ],
   "source": [
    "(Y_true_geometry * text_mask).shape"
   ]
  },
  {
   "cell_type": "code",
   "execution_count": 31,
   "metadata": {},
   "outputs": [
    {
     "name": "stdout",
     "output_type": "stream",
     "text": [
      "tensor(71464)\n",
      "tensor(46471)\n"
     ]
    }
   ],
   "source": [
    "print(Y_true_geometry.sum())\n",
    "print((Y_true_geometry * text_mask).sum())"
   ]
  },
  {
   "cell_type": "code",
   "execution_count": 34,
   "metadata": {},
   "outputs": [
    {
     "data": {
      "text/plain": [
       "tensor(46471)"
      ]
     },
     "execution_count": 34,
     "metadata": {},
     "output_type": "execute_result"
    }
   ],
   "source": [
    "(Y_true_geometry * Y_true_score).sum()"
   ]
  },
  {
   "cell_type": "code",
   "execution_count": 28,
   "metadata": {},
   "outputs": [
    {
     "name": "stdout",
     "output_type": "stream",
     "text": [
      "tensor(152)\n",
      "152\n"
     ]
    }
   ],
   "source": [
    "print(text_mask.sum())\n",
    "print(19*8)"
   ]
  },
  {
   "cell_type": "code",
   "execution_count": 18,
   "metadata": {},
   "outputs": [
    {
     "data": {
      "text/plain": [
       "tensor([[[[ True,  True,  True],\n",
       "          [ True,  True,  True],\n",
       "          [False, False, False]],\n",
       "\n",
       "         [[ True,  True,  True],\n",
       "          [ True,  True,  True],\n",
       "          [False, False, False]],\n",
       "\n",
       "         [[ True,  True,  True],\n",
       "          [ True,  True,  True],\n",
       "          [False, False, False]],\n",
       "\n",
       "         [[ True,  True,  True],\n",
       "          [ True,  True,  True],\n",
       "          [False, False, False]],\n",
       "\n",
       "         [[ True,  True,  True],\n",
       "          [ True,  True,  True],\n",
       "          [False, False, False]],\n",
       "\n",
       "         [[ True,  True,  True],\n",
       "          [ True,  True,  True],\n",
       "          [False, False, False]],\n",
       "\n",
       "         [[ True,  True,  True],\n",
       "          [ True,  True,  True],\n",
       "          [False, False, False]],\n",
       "\n",
       "         [[ True,  True,  True],\n",
       "          [ True,  True,  True],\n",
       "          [False, False, False]]],\n",
       "\n",
       "\n",
       "        [[[ True, False,  True],\n",
       "          [ True, False,  True],\n",
       "          [False, False,  True]],\n",
       "\n",
       "         [[ True, False,  True],\n",
       "          [ True, False,  True],\n",
       "          [False, False,  True]],\n",
       "\n",
       "         [[ True, False,  True],\n",
       "          [ True, False,  True],\n",
       "          [False, False,  True]],\n",
       "\n",
       "         [[ True, False,  True],\n",
       "          [ True, False,  True],\n",
       "          [False, False,  True]],\n",
       "\n",
       "         [[ True, False,  True],\n",
       "          [ True, False,  True],\n",
       "          [False, False,  True]],\n",
       "\n",
       "         [[ True, False,  True],\n",
       "          [ True, False,  True],\n",
       "          [False, False,  True]],\n",
       "\n",
       "         [[ True, False,  True],\n",
       "          [ True, False,  True],\n",
       "          [False, False,  True]],\n",
       "\n",
       "         [[ True, False,  True],\n",
       "          [ True, False,  True],\n",
       "          [False, False,  True]]],\n",
       "\n",
       "\n",
       "        [[[False, False, False],\n",
       "          [False,  True,  True],\n",
       "          [False,  True,  True]],\n",
       "\n",
       "         [[False, False, False],\n",
       "          [False,  True,  True],\n",
       "          [False,  True,  True]],\n",
       "\n",
       "         [[False, False, False],\n",
       "          [False,  True,  True],\n",
       "          [False,  True,  True]],\n",
       "\n",
       "         [[False, False, False],\n",
       "          [False,  True,  True],\n",
       "          [False,  True,  True]],\n",
       "\n",
       "         [[False, False, False],\n",
       "          [False,  True,  True],\n",
       "          [False,  True,  True]],\n",
       "\n",
       "         [[False, False, False],\n",
       "          [False,  True,  True],\n",
       "          [False,  True,  True]],\n",
       "\n",
       "         [[False, False, False],\n",
       "          [False,  True,  True],\n",
       "          [False,  True,  True]],\n",
       "\n",
       "         [[False, False, False],\n",
       "          [False,  True,  True],\n",
       "          [False,  True,  True]]],\n",
       "\n",
       "\n",
       "        [[[False, False,  True],\n",
       "          [ True, False, False],\n",
       "          [False,  True,  True]],\n",
       "\n",
       "         [[False, False,  True],\n",
       "          [ True, False, False],\n",
       "          [False,  True,  True]],\n",
       "\n",
       "         [[False, False,  True],\n",
       "          [ True, False, False],\n",
       "          [False,  True,  True]],\n",
       "\n",
       "         [[False, False,  True],\n",
       "          [ True, False, False],\n",
       "          [False,  True,  True]],\n",
       "\n",
       "         [[False, False,  True],\n",
       "          [ True, False, False],\n",
       "          [False,  True,  True]],\n",
       "\n",
       "         [[False, False,  True],\n",
       "          [ True, False, False],\n",
       "          [False,  True,  True]],\n",
       "\n",
       "         [[False, False,  True],\n",
       "          [ True, False, False],\n",
       "          [False,  True,  True]],\n",
       "\n",
       "         [[False, False,  True],\n",
       "          [ True, False, False],\n",
       "          [False,  True,  True]]]])"
      ]
     },
     "execution_count": 18,
     "metadata": {},
     "output_type": "execute_result"
    }
   ],
   "source": [
    "text_mask"
   ]
  },
  {
   "cell_type": "code",
   "execution_count": 22,
   "metadata": {},
   "outputs": [
    {
     "data": {
      "text/plain": [
       "torch.Size([152])"
      ]
     },
     "execution_count": 22,
     "metadata": {},
     "output_type": "execute_result"
    }
   ],
   "source": [
    "Y_true_geometry[text_mask].shape"
   ]
  },
  {
   "cell_type": "code",
   "execution_count": 2,
   "metadata": {},
   "outputs": [],
   "source": [
    "data = pd.read_csv(\"experiment_loss/experiment_1.csv\")"
   ]
  },
  {
   "cell_type": "code",
   "execution_count": 3,
   "metadata": {},
   "outputs": [
    {
     "data": {
      "text/html": [
       "<div>\n",
       "<style scoped>\n",
       "    .dataframe tbody tr th:only-of-type {\n",
       "        vertical-align: middle;\n",
       "    }\n",
       "\n",
       "    .dataframe tbody tr th {\n",
       "        vertical-align: top;\n",
       "    }\n",
       "\n",
       "    .dataframe thead th {\n",
       "        text-align: right;\n",
       "    }\n",
       "</style>\n",
       "<table border=\"1\" class=\"dataframe\">\n",
       "  <thead>\n",
       "    <tr style=\"text-align: right;\">\n",
       "      <th></th>\n",
       "      <th>epoch_number</th>\n",
       "      <th>mini_batch_number</th>\n",
       "      <th>score_loss</th>\n",
       "      <th>geometry_loss</th>\n",
       "      <th>loss</th>\n",
       "    </tr>\n",
       "  </thead>\n",
       "  <tbody>\n",
       "    <tr>\n",
       "      <td>0</td>\n",
       "      <td>1</td>\n",
       "      <td>1</td>\n",
       "      <td>9.469061</td>\n",
       "      <td>255.954950</td>\n",
       "      <td>265.424011</td>\n",
       "    </tr>\n",
       "    <tr>\n",
       "      <td>1</td>\n",
       "      <td>1</td>\n",
       "      <td>2</td>\n",
       "      <td>9.007338</td>\n",
       "      <td>255.939075</td>\n",
       "      <td>264.946413</td>\n",
       "    </tr>\n",
       "    <tr>\n",
       "      <td>2</td>\n",
       "      <td>1</td>\n",
       "      <td>3</td>\n",
       "      <td>8.718753</td>\n",
       "      <td>255.925082</td>\n",
       "      <td>264.643834</td>\n",
       "    </tr>\n",
       "    <tr>\n",
       "      <td>3</td>\n",
       "      <td>1</td>\n",
       "      <td>4</td>\n",
       "      <td>8.776470</td>\n",
       "      <td>255.913685</td>\n",
       "      <td>264.690156</td>\n",
       "    </tr>\n",
       "    <tr>\n",
       "      <td>4</td>\n",
       "      <td>1</td>\n",
       "      <td>5</td>\n",
       "      <td>7.910673</td>\n",
       "      <td>255.905035</td>\n",
       "      <td>263.815708</td>\n",
       "    </tr>\n",
       "  </tbody>\n",
       "</table>\n",
       "</div>"
      ],
      "text/plain": [
       "   epoch_number  mini_batch_number  score_loss  geometry_loss        loss\n",
       "0             1                  1    9.469061     255.954950  265.424011\n",
       "1             1                  2    9.007338     255.939075  264.946413\n",
       "2             1                  3    8.718753     255.925082  264.643834\n",
       "3             1                  4    8.776470     255.913685  264.690156\n",
       "4             1                  5    7.910673     255.905035  263.815708"
      ]
     },
     "execution_count": 3,
     "metadata": {},
     "output_type": "execute_result"
    }
   ],
   "source": [
    "data.head()"
   ]
  },
  {
   "cell_type": "code",
   "execution_count": 7,
   "metadata": {},
   "outputs": [
    {
     "data": {
      "text/html": [
       "<div>\n",
       "<style scoped>\n",
       "    .dataframe tbody tr th:only-of-type {\n",
       "        vertical-align: middle;\n",
       "    }\n",
       "\n",
       "    .dataframe tbody tr th {\n",
       "        vertical-align: top;\n",
       "    }\n",
       "\n",
       "    .dataframe thead th {\n",
       "        text-align: right;\n",
       "    }\n",
       "</style>\n",
       "<table border=\"1\" class=\"dataframe\">\n",
       "  <thead>\n",
       "    <tr style=\"text-align: right;\">\n",
       "      <th></th>\n",
       "      <th>mini_batch_number</th>\n",
       "      <th>score_loss</th>\n",
       "      <th>geometry_loss</th>\n",
       "      <th>loss</th>\n",
       "    </tr>\n",
       "    <tr>\n",
       "      <th>epoch_number</th>\n",
       "      <th></th>\n",
       "      <th></th>\n",
       "      <th></th>\n",
       "      <th></th>\n",
       "    </tr>\n",
       "  </thead>\n",
       "  <tbody>\n",
       "    <tr>\n",
       "      <td>1</td>\n",
       "      <td>209</td>\n",
       "      <td>8.044558</td>\n",
       "      <td>253.295127</td>\n",
       "      <td>261.339685</td>\n",
       "    </tr>\n",
       "    <tr>\n",
       "      <td>2</td>\n",
       "      <td>209</td>\n",
       "      <td>8.045735</td>\n",
       "      <td>247.963428</td>\n",
       "      <td>256.009163</td>\n",
       "    </tr>\n",
       "    <tr>\n",
       "      <td>3</td>\n",
       "      <td>209</td>\n",
       "      <td>8.046287</td>\n",
       "      <td>242.642643</td>\n",
       "      <td>250.688930</td>\n",
       "    </tr>\n",
       "    <tr>\n",
       "      <td>4</td>\n",
       "      <td>209</td>\n",
       "      <td>8.045045</td>\n",
       "      <td>237.339430</td>\n",
       "      <td>245.384476</td>\n",
       "    </tr>\n",
       "    <tr>\n",
       "      <td>5</td>\n",
       "      <td>209</td>\n",
       "      <td>8.044556</td>\n",
       "      <td>232.059850</td>\n",
       "      <td>240.104406</td>\n",
       "    </tr>\n",
       "  </tbody>\n",
       "</table>\n",
       "</div>"
      ],
      "text/plain": [
       "              mini_batch_number  score_loss  geometry_loss        loss\n",
       "epoch_number                                                          \n",
       "1                           209    8.044558     253.295127  261.339685\n",
       "2                           209    8.045735     247.963428  256.009163\n",
       "3                           209    8.046287     242.642643  250.688930\n",
       "4                           209    8.045045     237.339430  245.384476\n",
       "5                           209    8.044556     232.059850  240.104406"
      ]
     },
     "execution_count": 7,
     "metadata": {},
     "output_type": "execute_result"
    }
   ],
   "source": [
    "loss_data = data.groupby(\"epoch_number\").mean()\n",
    "loss_data.head()"
   ]
  },
  {
   "cell_type": "code",
   "execution_count": 12,
   "metadata": {},
   "outputs": [
    {
     "data": {
      "image/png": "[encoded data removed]",
      "text/plain": [
       "<Figure size 432x288 with 1 Axes>"
      ]
     },
     "metadata": {
      "needs_background": "light"
     },
     "output_type": "display_data"
    }
   ],
   "source": [
    "plt.figure()\n",
    "plt.plot(loss_data.index[:-1], loss_data['geo_loss'][:-1], marker=\"o\", linestyle=\"--\")\n",
    "plt.xticks(loss_data.index[:-1])\n",
    "plt.xlabel(\"epochs\")\n",
    "plt.ylabel(\"loss\")\n",
    "plt.savefig(\"experiment_plot/experiment_1_score_loss.png\")"
   ]
  },
  {
   "cell_type": "code",
   "execution_count": 2,
   "metadata": {},
   "outputs": [],
   "source": [
    "bbs = [[320,2,373,1,376,23,319,25],\n",
    "[377,4,430,2,431,30,375,31],\n",
    "[347,3,388,2,390,36,347,37],\n",
    "[336,7,376,5,378,48,334,50],\n",
    "[313,11,355,7,357,61,312,63]]"
   ]
  },
  {
   "cell_type": "code",
   "execution_count": 16,
   "metadata": {},
   "outputs": [
    {
     "name": "stdout",
     "output_type": "stream",
     "text": [
      "0 0 0.9999999914965987\n",
      "[(320, 2), (373, 1), (376, 23), (319, 25)] [(320, 2), (373, 1), (376, 23), (319, 25)]\n",
      "[Point2D(320, 2), Point2D(373, 1), Point2D(376, 23), Point2D(319, 25)] [Point2D(320, 2), Point2D(373, 1), Point2D(376, 23), Point2D(319, 25)]\n",
      "intersection:  [Segment2D(Point2D(319, 25), Point2D(320, 2)), Segment2D(Point2D(320, 2), Point2D(373, 1)), Segment2D(Point2D(373, 1), Point2D(376, 23)), Segment2D(Point2D(376, 23), Point2D(319, 25))]\n",
      "Polygon(Point2D(320, 2), Point2D(373, 1), Point2D(376, 23), Point2D(319, 25)) Polygon(Point2D(320, 2), Point2D(373, 1), Point2D(376, 23), Point2D(319, 25))\n",
      "1239 1239\n",
      "0 1 0.007418976933155107\n",
      "[(320, 2), (373, 1), (376, 23), (319, 25)] [(377, 4), (430, 2), (431, 30), (375, 31)]\n",
      "[Point2D(320, 2), Point2D(373, 1), Point2D(376, 23), Point2D(319, 25)] [Point2D(377, 4), Point2D(430, 2), Point2D(431, 30), Point2D(375, 31)]\n",
      "intersection:  [Point2D(576533/1535, 35327/1535), Point2D(46967/125, 2633/125)]\n",
      "Polygon(Point2D(320, 2), Point2D(373, 1), Point2D(376, 23), Point2D(319, 25)) Polygon(Point2D(377, 4), Point2D(430, 2), Point2D(431, 30), Point2D(375, 31))\n",
      "1239 1498\n",
      "0 2 0.28784118963850525\n",
      "[(320, 2), (373, 1), (376, 23), (319, 25)] [(347, 3), (388, 2), (390, 36), (347, 37)]\n",
      "[Point2D(320, 2), Point2D(373, 1), Point2D(376, 23), Point2D(319, 25)] [Point2D(347, 3), Point2D(388, 2), Point2D(390, 36), Point2D(347, 37)]\n",
      "intersection:  [Point2D(347, 1369/57), Point2D(337733/905, 2137/905)]\n",
      "Polygon(Point2D(320, 2), Point2D(373, 1), Point2D(376, 23), Point2D(319, 25)) Polygon(Point2D(347, 3), Point2D(388, 2), Point2D(390, 36), Point2D(347, 37))\n",
      "1239 1429\n",
      "0 3 0.28343666836387654\n",
      "[(320, 2), (373, 1), (376, 23), (319, 25)] [(336, 7), (376, 5), (378, 48), (334, 50)]\n",
      "[Point2D(320, 2), Point2D(373, 1), Point2D(376, 23), Point2D(319, 25)] [Point2D(336, 7), Point2D(376, 5), Point2D(378, 48), Point2D(334, 50)]\n",
      "intersection:  [Point2D(820208/2447, 59785/2447), Point2D(165488/443, 2269/443)]\n",
      "Polygon(Point2D(320, 2), Point2D(373, 1), Point2D(376, 23), Point2D(319, 25)) Polygon(Point2D(336, 7), Point2D(376, 5), Point2D(378, 48), Point2D(334, 50))\n",
      "1239 1806\n",
      "0 4 0.15143246878774735\n",
      "[(320, 2), (373, 1), (376, 23), (319, 25)] [(313, 11), (355, 7), (357, 61), (312, 63)]\n",
      "[Point2D(320, 2), Point2D(373, 1), Point2D(376, 23), Point2D(319, 25)] [Point2D(313, 11), Point2D(355, 7), Point2D(357, 61), Point2D(312, 63)]\n",
      "intersection:  [Point2D(153745/481, 4987/481), Point2D(548009/1541, 36545/1541)]\n",
      "Polygon(Point2D(320, 2), Point2D(373, 1), Point2D(376, 23), Point2D(319, 25)) Polygon(Point2D(313, 11), Point2D(355, 7), Point2D(357, 61), Point2D(312, 63))\n",
      "1239 2307\n",
      "1 0 0.007418976933155107\n",
      "[(377, 4), (430, 2), (431, 30), (375, 31)] [(320, 2), (373, 1), (376, 23), (319, 25)]\n",
      "[Point2D(377, 4), Point2D(430, 2), Point2D(431, 30), Point2D(375, 31)] [Point2D(320, 2), Point2D(373, 1), Point2D(376, 23), Point2D(319, 25)]\n",
      "intersection:  [Point2D(576533/1535, 35327/1535), Point2D(46967/125, 2633/125)]\n",
      "Polygon(Point2D(377, 4), Point2D(430, 2), Point2D(431, 30), Point2D(375, 31)) Polygon(Point2D(320, 2), Point2D(373, 1), Point2D(376, 23), Point2D(319, 25))\n",
      "1498 1239\n",
      "1 1 0.999999992877493\n",
      "[(377, 4), (430, 2), (431, 30), (375, 31)] [(377, 4), (430, 2), (431, 30), (375, 31)]\n",
      "[Point2D(377, 4), Point2D(430, 2), Point2D(431, 30), Point2D(375, 31)] [Point2D(377, 4), Point2D(430, 2), Point2D(431, 30), Point2D(375, 31)]\n",
      "intersection:  [Segment2D(Point2D(375, 31), Point2D(377, 4)), Segment2D(Point2D(377, 4), Point2D(430, 2)), Segment2D(Point2D(430, 2), Point2D(431, 30)), Segment2D(Point2D(431, 30), Point2D(375, 31))]\n",
      "Polygon(Point2D(377, 4), Point2D(430, 2), Point2D(431, 30), Point2D(375, 31)) Polygon(Point2D(377, 4), Point2D(430, 2), Point2D(431, 30), Point2D(375, 31))\n",
      "1498 1498\n",
      "1 2 0.1360160960321284\n",
      "[(377, 4), (430, 2), (431, 30), (375, 31)] [(347, 3), (388, 2), (390, 36), (347, 37)]\n",
      "[Point2D(377, 4), Point2D(430, 2), Point2D(431, 30), Point2D(375, 31)] [Point2D(347, 3), Point2D(388, 2), Point2D(390, 36), Point2D(347, 37)]\n",
      "intersection:  [Point2D(16688/43, 154/43), Point2D(371375/953, 29293/953)]\n",
      "Polygon(Point2D(377, 4), Point2D(430, 2), Point2D(431, 30), Point2D(375, 31)) Polygon(Point2D(347, 3), Point2D(388, 2), Point2D(390, 36), Point2D(347, 37))\n",
      "1498 1429\n",
      "1 3 0.007412181735700348\n",
      "[(377, 4), (430, 2), (431, 30), (375, 31)] [(336, 7), (376, 5), (378, 48), (334, 50)]\n",
      "[Point2D(377, 4), Point2D(430, 2), Point2D(431, 30), Point2D(375, 31)] [Point2D(336, 7), Point2D(376, 5), Point2D(378, 48), Point2D(334, 50)]\n",
      "intersection:  [Point2D(5269/14, 355/28), Point2D(90907/241, 14923/482)]\n",
      "Polygon(Point2D(377, 4), Point2D(430, 2), Point2D(431, 30), Point2D(375, 31)) Polygon(Point2D(336, 7), Point2D(376, 5), Point2D(378, 48), Point2D(334, 50))\n",
      "1498 1806\n",
      "1 4 0.11786600459718981\n",
      "[(377, 4), (430, 2), (431, 30), (375, 31)] [(313, 11), (355, 7), (357, 61), (312, 63)]\n",
      "[Point2D(377, 4), Point2D(430, 2), Point2D(431, 30), Point2D(375, 31)] [Point2D(313, 11), Point2D(355, 7), Point2D(357, 61), Point2D(312, 63)]\n",
      "intersection:  []\n",
      "Polygon(Point2D(377, 4), Point2D(430, 2), Point2D(431, 30), Point2D(375, 31)) Polygon(Point2D(313, 11), Point2D(355, 7), Point2D(357, 61), Point2D(312, 63))\n",
      "1498 2307\n",
      "2 0 0.28784118963850525\n",
      "[(347, 3), (388, 2), (390, 36), (347, 37)] [(320, 2), (373, 1), (376, 23), (319, 25)]\n",
      "[Point2D(347, 3), Point2D(388, 2), Point2D(390, 36), Point2D(347, 37)] [Point2D(320, 2), Point2D(373, 1), Point2D(376, 23), Point2D(319, 25)]\n",
      "intersection:  [Point2D(347, 1369/57), Point2D(337733/905, 2137/905)]\n",
      "Polygon(Point2D(347, 3), Point2D(388, 2), Point2D(390, 36), Point2D(347, 37)) Polygon(Point2D(320, 2), Point2D(373, 1), Point2D(376, 23), Point2D(319, 25))\n",
      "1429 1239\n",
      "2 1 0.1360160960321284\n",
      "[(347, 3), (388, 2), (390, 36), (347, 37)] [(377, 4), (430, 2), (431, 30), (375, 31)]\n",
      "[Point2D(347, 3), Point2D(388, 2), Point2D(390, 36), Point2D(347, 37)] [Point2D(377, 4), Point2D(430, 2), Point2D(431, 30), Point2D(375, 31)]\n",
      "intersection:  [Point2D(16688/43, 154/43), Point2D(371375/953, 29293/953)]\n",
      "Polygon(Point2D(347, 3), Point2D(388, 2), Point2D(390, 36), Point2D(347, 37)) Polygon(Point2D(377, 4), Point2D(430, 2), Point2D(431, 30), Point2D(375, 31))\n",
      "1429 1498\n",
      "2 2 0.9999999929527837\n",
      "[(347, 3), (388, 2), (390, 36), (347, 37)] [(347, 3), (388, 2), (390, 36), (347, 37)]\n",
      "[Point2D(347, 3), Point2D(388, 2), Point2D(390, 36), Point2D(347, 37)] [Point2D(347, 3), Point2D(388, 2), Point2D(390, 36), Point2D(347, 37)]\n",
      "intersection:  [Segment2D(Point2D(347, 3), Point2D(388, 2)), Segment2D(Point2D(347, 37), Point2D(347, 3)), Segment2D(Point2D(388, 2), Point2D(390, 36)), Segment2D(Point2D(390, 36), Point2D(347, 37))]\n",
      "Polygon(Point2D(347, 3), Point2D(388, 2), Point2D(390, 36), Point2D(347, 37)) Polygon(Point2D(347, 3), Point2D(388, 2), Point2D(390, 36), Point2D(347, 37))\n",
      "1429 1429\n",
      "2 3 0.4009812649376393\n",
      "[(347, 3), (388, 2), (390, 36), (347, 37)] [(336, 7), (376, 5), (378, 48), (334, 50)]\n",
      "[Point2D(347, 3), Point2D(388, 2), Point2D(390, 36), Point2D(347, 37)] [Point2D(336, 7), Point2D(376, 5), Point2D(378, 48), Point2D(334, 50)]\n",
      "intersection:  [Point2D(347, 129/20), Point2D(232890/617, 22392/617)]\n",
      "Polygon(Point2D(347, 3), Point2D(388, 2), Point2D(390, 36), Point2D(347, 37)) Polygon(Point2D(336, 7), Point2D(376, 5), Point2D(378, 48), Point2D(334, 50))\n",
      "1429 1806\n",
      "2 4 0.07420599562420303\n",
      "[(347, 3), (388, 2), (390, 36), (347, 37)] [(313, 11), (355, 7), (357, 61), (312, 63)]\n",
      "[Point2D(347, 3), Point2D(388, 2), Point2D(390, 36), Point2D(347, 37)] [Point2D(313, 11), Point2D(355, 7), Point2D(357, 61), Point2D(312, 63)]\n",
      "intersection:  [Point2D(347, 163/21), Point2D(206896/581, 21374/581)]\n",
      "Polygon(Point2D(347, 3), Point2D(388, 2), Point2D(390, 36), Point2D(347, 37)) Polygon(Point2D(313, 11), Point2D(355, 7), Point2D(357, 61), Point2D(312, 63))\n",
      "1429 2307\n",
      "3 0 0.28343666836387654\n",
      "[(336, 7), (376, 5), (378, 48), (334, 50)] [(320, 2), (373, 1), (376, 23), (319, 25)]\n",
      "[Point2D(336, 7), Point2D(376, 5), Point2D(378, 48), Point2D(334, 50)] [Point2D(320, 2), Point2D(373, 1), Point2D(376, 23), Point2D(319, 25)]\n",
      "intersection:  [Point2D(820208/2447, 59785/2447), Point2D(165488/443, 2269/443)]\n",
      "Polygon(Point2D(336, 7), Point2D(376, 5), Point2D(378, 48), Point2D(334, 50)) Polygon(Point2D(320, 2), Point2D(373, 1), Point2D(376, 23), Point2D(319, 25))\n",
      "1806 1239\n",
      "3 1 0.007412181735700348\n",
      "[(336, 7), (376, 5), (378, 48), (334, 50)] [(377, 4), (430, 2), (431, 30), (375, 31)]\n",
      "[Point2D(336, 7), Point2D(376, 5), Point2D(378, 48), Point2D(334, 50)] [Point2D(377, 4), Point2D(430, 2), Point2D(431, 30), Point2D(375, 31)]\n"
     ]
    },
    {
     "name": "stdout",
     "output_type": "stream",
     "text": [
      "intersection:  [Point2D(5269/14, 355/28), Point2D(90907/241, 14923/482)]\n",
      "Polygon(Point2D(336, 7), Point2D(376, 5), Point2D(378, 48), Point2D(334, 50)) Polygon(Point2D(377, 4), Point2D(430, 2), Point2D(431, 30), Point2D(375, 31))\n",
      "1806 1498\n",
      "3 2 0.4009812649376393\n",
      "[(336, 7), (376, 5), (378, 48), (334, 50)] [(347, 3), (388, 2), (390, 36), (347, 37)]\n",
      "[Point2D(336, 7), Point2D(376, 5), Point2D(378, 48), Point2D(334, 50)] [Point2D(347, 3), Point2D(388, 2), Point2D(390, 36), Point2D(347, 37)]\n",
      "intersection:  [Point2D(347, 129/20), Point2D(232890/617, 22392/617)]\n",
      "Polygon(Point2D(336, 7), Point2D(376, 5), Point2D(378, 48), Point2D(334, 50)) Polygon(Point2D(347, 3), Point2D(388, 2), Point2D(390, 36), Point2D(347, 37))\n",
      "1806 1429\n",
      "3 3 0.9999999941927992\n",
      "[(336, 7), (376, 5), (378, 48), (334, 50)] [(336, 7), (376, 5), (378, 48), (334, 50)]\n",
      "[Point2D(336, 7), Point2D(376, 5), Point2D(378, 48), Point2D(334, 50)] [Point2D(336, 7), Point2D(376, 5), Point2D(378, 48), Point2D(334, 50)]\n",
      "intersection:  [Segment2D(Point2D(334, 50), Point2D(336, 7)), Segment2D(Point2D(336, 7), Point2D(376, 5)), Segment2D(Point2D(376, 5), Point2D(378, 48)), Segment2D(Point2D(378, 48), Point2D(334, 50))]\n",
      "Polygon(Point2D(336, 7), Point2D(376, 5), Point2D(378, 48), Point2D(334, 50)) Polygon(Point2D(336, 7), Point2D(376, 5), Point2D(378, 48), Point2D(334, 50))\n",
      "1806 1806\n",
      "3 4 0.2470588227438511\n",
      "[(336, 7), (376, 5), (378, 48), (334, 50)] [(313, 11), (355, 7), (357, 61), (312, 63)]\n",
      "[Point2D(336, 7), Point2D(376, 5), Point2D(378, 48), Point2D(334, 50)] [Point2D(313, 11), Point2D(355, 7), Point2D(357, 61), Point2D(312, 63)]\n",
      "intersection:  [Point2D(301988/899, 7927/899), Point2D(42430/119, 5828/119)]\n",
      "Polygon(Point2D(336, 7), Point2D(376, 5), Point2D(378, 48), Point2D(334, 50)) Polygon(Point2D(313, 11), Point2D(355, 7), Point2D(357, 61), Point2D(312, 63))\n",
      "1806 2307\n",
      "4 0 0.15143246878774735\n",
      "[(313, 11), (355, 7), (357, 61), (312, 63)] [(320, 2), (373, 1), (376, 23), (319, 25)]\n",
      "[Point2D(313, 11), Point2D(355, 7), Point2D(357, 61), Point2D(312, 63)] [Point2D(320, 2), Point2D(373, 1), Point2D(376, 23), Point2D(319, 25)]\n",
      "intersection:  [Point2D(153745/481, 4987/481), Point2D(548009/1541, 36545/1541)]\n",
      "Polygon(Point2D(313, 11), Point2D(355, 7), Point2D(357, 61), Point2D(312, 63)) Polygon(Point2D(320, 2), Point2D(373, 1), Point2D(376, 23), Point2D(319, 25))\n",
      "2307 1239\n",
      "4 1 0.11786600459718981\n",
      "[(313, 11), (355, 7), (357, 61), (312, 63)] [(377, 4), (430, 2), (431, 30), (375, 31)]\n",
      "[Point2D(313, 11), Point2D(355, 7), Point2D(357, 61), Point2D(312, 63)] [Point2D(377, 4), Point2D(430, 2), Point2D(431, 30), Point2D(375, 31)]\n",
      "intersection:  []\n",
      "Polygon(Point2D(313, 11), Point2D(355, 7), Point2D(357, 61), Point2D(312, 63)) Polygon(Point2D(377, 4), Point2D(430, 2), Point2D(431, 30), Point2D(375, 31))\n",
      "2307 1498\n",
      "4 2 0.07420599562420303\n",
      "[(313, 11), (355, 7), (357, 61), (312, 63)] [(347, 3), (388, 2), (390, 36), (347, 37)]\n",
      "[Point2D(313, 11), Point2D(355, 7), Point2D(357, 61), Point2D(312, 63)] [Point2D(347, 3), Point2D(388, 2), Point2D(390, 36), Point2D(347, 37)]\n",
      "intersection:  [Point2D(347, 163/21), Point2D(206896/581, 21374/581)]\n",
      "Polygon(Point2D(313, 11), Point2D(355, 7), Point2D(357, 61), Point2D(312, 63)) Polygon(Point2D(347, 3), Point2D(388, 2), Point2D(390, 36), Point2D(347, 37))\n",
      "2307 1429\n",
      "4 3 0.2470588227438511\n",
      "[(313, 11), (355, 7), (357, 61), (312, 63)] [(336, 7), (376, 5), (378, 48), (334, 50)]\n",
      "[Point2D(313, 11), Point2D(355, 7), Point2D(357, 61), Point2D(312, 63)] [Point2D(336, 7), Point2D(376, 5), Point2D(378, 48), Point2D(334, 50)]\n",
      "intersection:  [Point2D(301988/899, 7927/899), Point2D(42430/119, 5828/119)]\n",
      "Polygon(Point2D(313, 11), Point2D(355, 7), Point2D(357, 61), Point2D(312, 63)) Polygon(Point2D(336, 7), Point2D(376, 5), Point2D(378, 48), Point2D(334, 50))\n",
      "2307 1806\n",
      "4 4 0.9999999954545454\n",
      "[(313, 11), (355, 7), (357, 61), (312, 63)] [(313, 11), (355, 7), (357, 61), (312, 63)]\n",
      "[Point2D(313, 11), Point2D(355, 7), Point2D(357, 61), Point2D(312, 63)] [Point2D(313, 11), Point2D(355, 7), Point2D(357, 61), Point2D(312, 63)]\n",
      "intersection:  [Segment2D(Point2D(312, 63), Point2D(313, 11)), Segment2D(Point2D(313, 11), Point2D(355, 7)), Segment2D(Point2D(355, 7), Point2D(357, 61)), Segment2D(Point2D(357, 61), Point2D(312, 63))]\n",
      "Polygon(Point2D(313, 11), Point2D(355, 7), Point2D(357, 61), Point2D(312, 63)) Polygon(Point2D(313, 11), Point2D(355, 7), Point2D(357, 61), Point2D(312, 63))\n",
      "2307 2307\n"
     ]
    }
   ],
   "source": [
    "from sympy import Polygon\n",
    "from sympy.geometry import intersection\n",
    "import numpy as np\n",
    "\n",
    "for idx1, bb1 in enumerate(bbs):\n",
    "    for idx2, bb2 in enumerate(bbs):\n",
    "        #print(idx1, idx2, compute_iou(bb1, bb2))\n",
    "        bb1_ = [(x, y) for x, y in np.array(bb1).reshape(-1, 2)]\n",
    "        bb2_ = [(x, y) for x, y in np.array(bb2).reshape(-1, 2)]\n",
    "        #print(bb1_, bb2_)\n",
    "        poly1 = Polygon(*bb1_)\n",
    "        poly2 = Polygon(*bb2_)\n",
    "        print(poly1.vertices, poly2.vertices)\n",
    "        print(\"intersection: \", intersection(poly1, poly2))\n",
    "        print(poly1, poly2)\n",
    "        print(poly1.area, poly2.area)"
   ]
  },
  {
   "cell_type": "code",
   "execution_count": 5,
   "metadata": {},
   "outputs": [
    {
     "name": "stdout",
     "output_type": "stream",
     "text": [
      "Polygon(Point2D(320, 2), Point2D(373, 1), Point2D(376, 23), Point2D(319, 25))\n",
      "(319, 1, 376, 25)\n",
      "Polygon(Point2D(377, 4), Point2D(430, 2), Point2D(431, 30), Point2D(375, 31))\n",
      "(375, 2, 431, 31)\n",
      "Polygon(Point2D(347, 3), Point2D(388, 2), Point2D(390, 36), Point2D(347, 37))\n",
      "(347, 2, 390, 37)\n",
      "Polygon(Point2D(336, 7), Point2D(376, 5), Point2D(378, 48), Point2D(334, 50))\n",
      "(334, 5, 378, 50)\n",
      "Polygon(Point2D(313, 11), Point2D(355, 7), Point2D(357, 61), Point2D(312, 63))\n",
      "(312, 7, 357, 63)\n"
     ]
    }
   ],
   "source": [
    "from sympy import Polygon\n",
    "from sympy.geometry import intersection\n",
    "import numpy as np\n",
    "\n",
    "for idx1, bb1 in enumerate(bbs):\n",
    "    bb1_ = [(x, y) for x, y in np.array(bb1).reshape(-1, 2)]\n",
    "    poly1 = Polygon(*bb1_)\n",
    "    print(poly1)\n",
    "    print(poly1.bounds)"
   ]
  },
  {
   "cell_type": "code",
   "execution_count": 7,
   "metadata": {},
   "outputs": [
    {
     "name": "stdout",
     "output_type": "stream",
     "text": [
      "(4, 2)\n",
      "(2,)\n",
      "(4, 2)\n"
     ]
    }
   ],
   "source": [
    "a = np.random.randint(1, 10, (4, 2))\n",
    "print(a.shape)\n",
    "b = np.array([1, 2])\n",
    "print(b.shape)\n",
    "c = a - b\n",
    "print(c.shape)"
   ]
  },
  {
   "cell_type": "code",
   "execution_count": null,
   "metadata": {},
   "outputs": [],
   "source": []
  }
 ],
 "metadata": {
  "kernelspec": {
   "display_name": "Python 3",
   "language": "python",
   "name": "python3"
  },
  "language_info": {
   "codemirror_mode": {
    "name": "ipython",
    "version": 3
   },
   "file_extension": ".py",
   "mimetype": "text/x-python",
   "name": "python",
   "nbconvert_exporter": "python",
   "pygments_lexer": "ipython3",
   "version": "3.6.4"
  }
 },
 "nbformat": 4,
 "nbformat_minor": 2
}
