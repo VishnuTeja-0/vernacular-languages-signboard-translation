{
 "cells": [
  {
   "cell_type": "code",
   "execution_count": 30,
   "metadata": {},
   "outputs": [],
   "source": [
    "import os\n",
    "import shutil\n",
    "import numpy as np\n",
    "import pandas as pd\n",
    "import matplotlib.pyplot as plt\n",
    "from PIL import Image\n",
    "import psutil\n",
    "from tqdm import tqdm_notebook\n",
    "import cv2\n",
    "import pickle\n",
    "import time\n",
    "from sklearn.model_selection import train_test_split\n",
    "np.random.seed(0)"
   ]
  },
  {
   "cell_type": "code",
   "execution_count": 31,
   "metadata": {},
   "outputs": [],
   "source": [
    "LANG = \"hindi\"\n",
    "IMAGE_FOLDER = \"data/{}/images\".format(LANG)\n",
    "ANNOTATION_FOLDER = \"data/{}/annotations\".format(LANG)\n",
    "NEW_IMAGE_FOLDER = \"data-split/{}/{}/images\"\n",
    "NEW_ANNOTATION_FOLDER = \"data-split/{}/{}/annotations\""
   ]
  },
  {
   "cell_type": "code",
   "execution_count": 32,
   "metadata": {},
   "outputs": [
    {
     "name": "stdout",
     "output_type": "stream",
     "text": [
      "116132\n"
     ]
    }
   ],
   "source": [
    "image_keys = list(os.listdir(IMAGE_FOLDER))\n",
    "annotation_keys = list(os.listdir(ANNOTATION_FOLDER))\n",
    "print(len(image_keys))\n",
    "np.random.shuffle(image_keys)"
   ]
  },
  {
   "cell_type": "code",
   "execution_count": 33,
   "metadata": {},
   "outputs": [
    {
     "name": "stdout",
     "output_type": "stream",
     "text": [
      "111486 2323 2323\n",
      "111486 2323 2323\n"
     ]
    }
   ],
   "source": [
    "image_keys_train, image_keys_test = train_test_split(image_keys, train_size=0.96, random_state=0)\n",
    "image_keys_dev, image_keys_test = train_test_split(image_keys_test, train_size=0.5, random_state=0)\n",
    "print(len(image_keys_train), len(images_keys_dev), len(image_keys_test))\n",
    "annotation_keys_train = [key[:-3]+\"csv\" for key in image_keys_train]\n",
    "annotation_keys_dev = [key[:-3]+\"csv\" for key in image_keys_dev]\n",
    "annotation_keys_test = [key[:-3]+\"csv\" for key in image_keys_test]\n",
    "print(len(annotation_keys_train), len(annotation_keys_dev), len(annotation_keys_test))"
   ]
  },
  {
   "cell_type": "code",
   "execution_count": 34,
   "metadata": {},
   "outputs": [],
   "source": [
    "dir_ = \"data-split\"\n",
    "if not os.path.exists(dir_):\n",
    "    os.mkdir(dir_)\n",
    "dir_ = \"data-split/{}\".format(LANG)\n",
    "if not os.path.exists(dir_):\n",
    "    os.mkdir(dir_)\n",
    "\n",
    "sets = [\"train\", \"dev\", \"test\"]\n",
    "for set_ in sets:\n",
    "    dir_ = \"data-split/{}/{}\".format(LANG, set_)\n",
    "    if not os.path.exists(dir_):\n",
    "        os.mkdir(dir_)\n",
    "    dir_ = \"data-split/{}/{}/{}\".format(LANG, set_, 'images')\n",
    "    if not os.path.exists(dir_):\n",
    "        os.mkdir(dir_)\n",
    "    dir_ = \"data-split/{}/{}/{}\".format(LANG, set_, 'annotations')\n",
    "    if not os.path.exists(dir_):\n",
    "        os.mkdir(dir_)"
   ]
  },
  {
   "cell_type": "code",
   "execution_count": 35,
   "metadata": {},
   "outputs": [
    {
     "data": {
      "application/vnd.jupyter.widget-view+json": {
       "model_id": "a6966413a2f54048b60f3e91dd1ffe71",
       "version_major": 2,
       "version_minor": 0
      },
      "text/plain": [
       "HBox(children=(IntProgress(value=0, max=111486), HTML(value='')))"
      ]
     },
     "metadata": {},
     "output_type": "display_data"
    },
    {
     "name": "stdout",
     "output_type": "stream",
     "text": [
      "\n"
     ]
    },
    {
     "data": {
      "application/vnd.jupyter.widget-view+json": {
       "model_id": "38f296cb631b463a892cbbdff37a5313",
       "version_major": 2,
       "version_minor": 0
      },
      "text/plain": [
       "HBox(children=(IntProgress(value=0, max=2323), HTML(value='')))"
      ]
     },
     "metadata": {},
     "output_type": "display_data"
    },
    {
     "name": "stdout",
     "output_type": "stream",
     "text": [
      "\n"
     ]
    },
    {
     "data": {
      "application/vnd.jupyter.widget-view+json": {
       "model_id": "e5e3b510f6154194a9c1687b27349f2d",
       "version_major": 2,
       "version_minor": 0
      },
      "text/plain": [
       "HBox(children=(IntProgress(value=0, max=2323), HTML(value='')))"
      ]
     },
     "metadata": {},
     "output_type": "display_data"
    },
    {
     "name": "stdout",
     "output_type": "stream",
     "text": [
      "\n"
     ]
    }
   ],
   "source": [
    "# create train dev and test\n",
    "for image_fn in tqdm_notebook(image_keys_train):\n",
    "    annotation_fn = image_fn[:-3] + \"csv\"\n",
    "    img_src = os.path.join(IMAGE_FOLDER, image_fn)\n",
    "    img_dst = os.path.join(NEW_IMAGE_FOLDER.format(LANG, 'train'), image_fn)\n",
    "    shutil.copyfile(img_src, img_dst)\n",
    "    ann_src = os.path.join(ANNOTATION_FOLDER, annotation_fn)\n",
    "    ann_dst = os.path.join(NEW_ANNOTATION_FOLDER.format(LANG, 'train'), annotation_fn)\n",
    "    shutil.copyfile(ann_src, ann_dst)\n",
    "    \n",
    "for image_fn in tqdm_notebook(image_keys_dev):\n",
    "    annotation_fn = image_fn[:-3] + \"csv\"\n",
    "    img_src = os.path.join(IMAGE_FOLDER, image_fn)\n",
    "    img_dst = os.path.join(NEW_IMAGE_FOLDER.format(LANG, 'dev'), image_fn)\n",
    "    shutil.copyfile(img_src, img_dst)\n",
    "    ann_src = os.path.join(ANNOTATION_FOLDER, annotation_fn)\n",
    "    ann_dst = os.path.join(NEW_ANNOTATION_FOLDER.format(LANG, 'dev'), annotation_fn)\n",
    "    shutil.copyfile(ann_src, ann_dst)\n",
    "    \n",
    "for image_fn in tqdm_notebook(image_keys_test):\n",
    "    annotation_fn = image_fn[:-3] + \"csv\"\n",
    "    img_src = os.path.join(IMAGE_FOLDER, image_fn)\n",
    "    img_dst = os.path.join(NEW_IMAGE_FOLDER.format(LANG, 'test'), image_fn)\n",
    "    shutil.copyfile(img_src, img_dst)\n",
    "    ann_src = os.path.join(ANNOTATION_FOLDER, annotation_fn)\n",
    "    ann_dst = os.path.join(NEW_ANNOTATION_FOLDER.format(LANG, 'test'), annotation_fn)\n",
    "    shutil.copyfile(ann_src, ann_dst)"
   ]
  },
  {
   "cell_type": "code",
   "execution_count": 38,
   "metadata": {},
   "outputs": [
    {
     "data": {
      "text/plain": [
       "'/home/gokul/data-split.tar.gz'"
      ]
     },
     "execution_count": 38,
     "metadata": {},
     "output_type": "execute_result"
    }
   ],
   "source": [
    "shutil.make_archive(\"data-split\", \"tar\", \"data-split\")"
   ]
  },
  {
   "cell_type": "code",
   "execution_count": null,
   "metadata": {},
   "outputs": [],
   "source": []
  }
 ],
 "metadata": {
  "kernelspec": {
   "display_name": "Python 3",
   "language": "python",
   "name": "python3"
  },
  "language_info": {
   "codemirror_mode": {
    "name": "ipython",
    "version": 3
   },
   "file_extension": ".py",
   "mimetype": "text/x-python",
   "name": "python",
   "nbconvert_exporter": "python",
   "pygments_lexer": "ipython3",
   "version": "3.7.4"
  }
 },
 "nbformat": 4,
 "nbformat_minor": 2
}
