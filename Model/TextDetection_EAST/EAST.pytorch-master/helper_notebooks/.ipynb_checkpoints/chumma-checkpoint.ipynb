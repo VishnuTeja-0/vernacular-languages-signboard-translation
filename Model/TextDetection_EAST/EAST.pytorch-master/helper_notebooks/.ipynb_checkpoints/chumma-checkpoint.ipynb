{
 "cells": [
  {
   "cell_type": "code",
   "execution_count": 6,
   "metadata": {},
   "outputs": [],
   "source": [
    "import torch\n",
    "import pandas as pd\n",
    "import matplotlib.pyplot as plt"
   ]
  },
  {
   "cell_type": "code",
   "execution_count": 6,
   "metadata": {},
   "outputs": [
    {
     "data": {
      "text/plain": [
       "65536"
      ]
     },
     "execution_count": 6,
     "metadata": {},
     "output_type": "execute_result"
    }
   ],
   "source": [
    "128*128*4"
   ]
  },
  {
   "cell_type": "code",
   "execution_count": 29,
   "metadata": {},
   "outputs": [
    {
     "name": "stdout",
     "output_type": "stream",
     "text": [
      "text_mask.sum() tensor(184)\n",
      "torch.Size([4, 1, 3, 3]) torch.Size([4, 8, 3, 3])\n",
      "torch.Size([4, 8, 3, 3])\n"
     ]
    }
   ],
   "source": [
    "m = 4\n",
    "Y_true_score = torch.randint(low=0, high=2, size=(m, 1, 3, 3))\n",
    "text_mask = Y_true_score\n",
    "text_mask = text_mask.expand(-1, 8, -1, -1)\n",
    "print(\"text_mask.sum()\", text_mask.sum())\n",
    "Y_true_geometry = torch.randint(low=0, high=512, size=(m, 8, 3, 3))\n",
    "print(Y_true_score.shape, text_mask.shape)\n",
    "print(Y_true_geometry.shape)"
   ]
  },
  {
   "cell_type": "code",
   "execution_count": 30,
   "metadata": {},
   "outputs": [
    {
     "data": {
      "text/plain": [
       "torch.Size([4, 8, 3, 3])"
      ]
     },
     "execution_count": 30,
     "metadata": {},
     "output_type": "execute_result"
    }
   ],
   "source": [
    "(Y_true_geometry * text_mask).shape"
   ]
  },
  {
   "cell_type": "code",
   "execution_count": 31,
   "metadata": {},
   "outputs": [
    {
     "name": "stdout",
     "output_type": "stream",
     "text": [
      "tensor(71464)\n",
      "tensor(46471)\n"
     ]
    }
   ],
   "source": [
    "print(Y_true_geometry.sum())\n",
    "print((Y_true_geometry * text_mask).sum())"
   ]
  },
  {
   "cell_type": "code",
   "execution_count": 34,
   "metadata": {},
   "outputs": [
    {
     "data": {
      "text/plain": [
       "tensor(46471)"
      ]
     },
     "execution_count": 34,
     "metadata": {},
     "output_type": "execute_result"
    }
   ],
   "source": [
    "(Y_true_geometry * Y_true_score).sum()"
   ]
  },
  {
   "cell_type": "code",
   "execution_count": 28,
   "metadata": {},
   "outputs": [
    {
     "name": "stdout",
     "output_type": "stream",
     "text": [
      "tensor(152)\n",
      "152\n"
     ]
    }
   ],
   "source": [
    "print(text_mask.sum())\n",
    "print(19*8)"
   ]
  },
  {
   "cell_type": "code",
   "execution_count": 18,
   "metadata": {},
   "outputs": [
    {
     "data": {
      "text/plain": [
       "tensor([[[[ True,  True,  True],\n",
       "          [ True,  True,  True],\n",
       "          [False, False, False]],\n",
       "\n",
       "         [[ True,  True,  True],\n",
       "          [ True,  True,  True],\n",
       "          [False, False, False]],\n",
       "\n",
       "         [[ True,  True,  True],\n",
       "          [ True,  True,  True],\n",
       "          [False, False, False]],\n",
       "\n",
       "         [[ True,  True,  True],\n",
       "          [ True,  True,  True],\n",
       "          [False, False, False]],\n",
       "\n",
       "         [[ True,  True,  True],\n",
       "          [ True,  True,  True],\n",
       "          [False, False, False]],\n",
       "\n",
       "         [[ True,  True,  True],\n",
       "          [ True,  True,  True],\n",
       "          [False, False, False]],\n",
       "\n",
       "         [[ True,  True,  True],\n",
       "          [ True,  True,  True],\n",
       "          [False, False, False]],\n",
       "\n",
       "         [[ True,  True,  True],\n",
       "          [ True,  True,  True],\n",
       "          [False, False, False]]],\n",
       "\n",
       "\n",
       "        [[[ True, False,  True],\n",
       "          [ True, False,  True],\n",
       "          [False, False,  True]],\n",
       "\n",
       "         [[ True, False,  True],\n",
       "          [ True, False,  True],\n",
       "          [False, False,  True]],\n",
       "\n",
       "         [[ True, False,  True],\n",
       "          [ True, False,  True],\n",
       "          [False, False,  True]],\n",
       "\n",
       "         [[ True, False,  True],\n",
       "          [ True, False,  True],\n",
       "          [False, False,  True]],\n",
       "\n",
       "         [[ True, False,  True],\n",
       "          [ True, False,  True],\n",
       "          [False, False,  True]],\n",
       "\n",
       "         [[ True, False,  True],\n",
       "          [ True, False,  True],\n",
       "          [False, False,  True]],\n",
       "\n",
       "         [[ True, False,  True],\n",
       "          [ True, False,  True],\n",
       "          [False, False,  True]],\n",
       "\n",
       "         [[ True, False,  True],\n",
       "          [ True, False,  True],\n",
       "          [False, False,  True]]],\n",
       "\n",
       "\n",
       "        [[[False, False, False],\n",
       "          [False,  True,  True],\n",
       "          [False,  True,  True]],\n",
       "\n",
       "         [[False, False, False],\n",
       "          [False,  True,  True],\n",
       "          [False,  True,  True]],\n",
       "\n",
       "         [[False, False, False],\n",
       "          [False,  True,  True],\n",
       "          [False,  True,  True]],\n",
       "\n",
       "         [[False, False, False],\n",
       "          [False,  True,  True],\n",
       "          [False,  True,  True]],\n",
       "\n",
       "         [[False, False, False],\n",
       "          [False,  True,  True],\n",
       "          [False,  True,  True]],\n",
       "\n",
       "         [[False, False, False],\n",
       "          [False,  True,  True],\n",
       "          [False,  True,  True]],\n",
       "\n",
       "         [[False, False, False],\n",
       "          [False,  True,  True],\n",
       "          [False,  True,  True]],\n",
       "\n",
       "         [[False, False, False],\n",
       "          [False,  True,  True],\n",
       "          [False,  True,  True]]],\n",
       "\n",
       "\n",
       "        [[[False, False,  True],\n",
       "          [ True, False, False],\n",
       "          [False,  True,  True]],\n",
       "\n",
       "         [[False, False,  True],\n",
       "          [ True, False, False],\n",
       "          [False,  True,  True]],\n",
       "\n",
       "         [[False, False,  True],\n",
       "          [ True, False, False],\n",
       "          [False,  True,  True]],\n",
       "\n",
       "         [[False, False,  True],\n",
       "          [ True, False, False],\n",
       "          [False,  True,  True]],\n",
       "\n",
       "         [[False, False,  True],\n",
       "          [ True, False, False],\n",
       "          [False,  True,  True]],\n",
       "\n",
       "         [[False, False,  True],\n",
       "          [ True, False, False],\n",
       "          [False,  True,  True]],\n",
       "\n",
       "         [[False, False,  True],\n",
       "          [ True, False, False],\n",
       "          [False,  True,  True]],\n",
       "\n",
       "         [[False, False,  True],\n",
       "          [ True, False, False],\n",
       "          [False,  True,  True]]]])"
      ]
     },
     "execution_count": 18,
     "metadata": {},
     "output_type": "execute_result"
    }
   ],
   "source": [
    "text_mask"
   ]
  },
  {
   "cell_type": "code",
   "execution_count": 22,
   "metadata": {},
   "outputs": [
    {
     "data": {
      "text/plain": [
       "torch.Size([152])"
      ]
     },
     "execution_count": 22,
     "metadata": {},
     "output_type": "execute_result"
    }
   ],
   "source": [
    "Y_true_geometry[text_mask].shape"
   ]
  },
  {
   "cell_type": "code",
   "execution_count": 2,
   "metadata": {},
   "outputs": [],
   "source": [
    "data = pd.read_csv(\"experiment_loss/experiment_1.csv\")"
   ]
  },
  {
   "cell_type": "code",
   "execution_count": 3,
   "metadata": {},
   "outputs": [
    {
     "data": {
      "text/html": [
       "<div>\n",
       "<style scoped>\n",
       "    .dataframe tbody tr th:only-of-type {\n",
       "        vertical-align: middle;\n",
       "    }\n",
       "\n",
       "    .dataframe tbody tr th {\n",
       "        vertical-align: top;\n",
       "    }\n",
       "\n",
       "    .dataframe thead th {\n",
       "        text-align: right;\n",
       "    }\n",
       "</style>\n",
       "<table border=\"1\" class=\"dataframe\">\n",
       "  <thead>\n",
       "    <tr style=\"text-align: right;\">\n",
       "      <th></th>\n",
       "      <th>epoch_number</th>\n",
       "      <th>mini_batch_number</th>\n",
       "      <th>score_loss</th>\n",
       "      <th>geometry_loss</th>\n",
       "      <th>loss</th>\n",
       "    </tr>\n",
       "  </thead>\n",
       "  <tbody>\n",
       "    <tr>\n",
       "      <td>0</td>\n",
       "      <td>1</td>\n",
       "      <td>1</td>\n",
       "      <td>9.469061</td>\n",
       "      <td>255.954950</td>\n",
       "      <td>265.424011</td>\n",
       "    </tr>\n",
       "    <tr>\n",
       "      <td>1</td>\n",
       "      <td>1</td>\n",
       "      <td>2</td>\n",
       "      <td>9.007338</td>\n",
       "      <td>255.939075</td>\n",
       "      <td>264.946413</td>\n",
       "    </tr>\n",
       "    <tr>\n",
       "      <td>2</td>\n",
       "      <td>1</td>\n",
       "      <td>3</td>\n",
       "      <td>8.718753</td>\n",
       "      <td>255.925082</td>\n",
       "      <td>264.643834</td>\n",
       "    </tr>\n",
       "    <tr>\n",
       "      <td>3</td>\n",
       "      <td>1</td>\n",
       "      <td>4</td>\n",
       "      <td>8.776470</td>\n",
       "      <td>255.913685</td>\n",
       "      <td>264.690156</td>\n",
       "    </tr>\n",
       "    <tr>\n",
       "      <td>4</td>\n",
       "      <td>1</td>\n",
       "      <td>5</td>\n",
       "      <td>7.910673</td>\n",
       "      <td>255.905035</td>\n",
       "      <td>263.815708</td>\n",
       "    </tr>\n",
       "  </tbody>\n",
       "</table>\n",
       "</div>"
      ],
      "text/plain": [
       "   epoch_number  mini_batch_number  score_loss  geometry_loss        loss\n",
       "0             1                  1    9.469061     255.954950  265.424011\n",
       "1             1                  2    9.007338     255.939075  264.946413\n",
       "2             1                  3    8.718753     255.925082  264.643834\n",
       "3             1                  4    8.776470     255.913685  264.690156\n",
       "4             1                  5    7.910673     255.905035  263.815708"
      ]
     },
     "execution_count": 3,
     "metadata": {},
     "output_type": "execute_result"
    }
   ],
   "source": [
    "data.head()"
   ]
  },
  {
   "cell_type": "code",
   "execution_count": 7,
   "metadata": {},
   "outputs": [
    {
     "data": {
      "text/html": [
       "<div>\n",
       "<style scoped>\n",
       "    .dataframe tbody tr th:only-of-type {\n",
       "        vertical-align: middle;\n",
       "    }\n",
       "\n",
       "    .dataframe tbody tr th {\n",
       "        vertical-align: top;\n",
       "    }\n",
       "\n",
       "    .dataframe thead th {\n",
       "        text-align: right;\n",
       "    }\n",
       "</style>\n",
       "<table border=\"1\" class=\"dataframe\">\n",
       "  <thead>\n",
       "    <tr style=\"text-align: right;\">\n",
       "      <th></th>\n",
       "      <th>mini_batch_number</th>\n",
       "      <th>score_loss</th>\n",
       "      <th>geometry_loss</th>\n",
       "      <th>loss</th>\n",
       "    </tr>\n",
       "    <tr>\n",
       "      <th>epoch_number</th>\n",
       "      <th></th>\n",
       "      <th></th>\n",
       "      <th></th>\n",
       "      <th></th>\n",
       "    </tr>\n",
       "  </thead>\n",
       "  <tbody>\n",
       "    <tr>\n",
       "      <td>1</td>\n",
       "      <td>209</td>\n",
       "      <td>8.044558</td>\n",
       "      <td>253.295127</td>\n",
       "      <td>261.339685</td>\n",
       "    </tr>\n",
       "    <tr>\n",
       "      <td>2</td>\n",
       "      <td>209</td>\n",
       "      <td>8.045735</td>\n",
       "      <td>247.963428</td>\n",
       "      <td>256.009163</td>\n",
       "    </tr>\n",
       "    <tr>\n",
       "      <td>3</td>\n",
       "      <td>209</td>\n",
       "      <td>8.046287</td>\n",
       "      <td>242.642643</td>\n",
       "      <td>250.688930</td>\n",
       "    </tr>\n",
       "    <tr>\n",
       "      <td>4</td>\n",
       "      <td>209</td>\n",
       "      <td>8.045045</td>\n",
       "      <td>237.339430</td>\n",
       "      <td>245.384476</td>\n",
       "    </tr>\n",
       "    <tr>\n",
       "      <td>5</td>\n",
       "      <td>209</td>\n",
       "      <td>8.044556</td>\n",
       "      <td>232.059850</td>\n",
       "      <td>240.104406</td>\n",
       "    </tr>\n",
       "  </tbody>\n",
       "</table>\n",
       "</div>"
      ],
      "text/plain": [
       "              mini_batch_number  score_loss  geometry_loss        loss\n",
       "epoch_number                                                          \n",
       "1                           209    8.044558     253.295127  261.339685\n",
       "2                           209    8.045735     247.963428  256.009163\n",
       "3                           209    8.046287     242.642643  250.688930\n",
       "4                           209    8.045045     237.339430  245.384476\n",
       "5                           209    8.044556     232.059850  240.104406"
      ]
     },
     "execution_count": 7,
     "metadata": {},
     "output_type": "execute_result"
    }
   ],
   "source": [
    "loss_data = data.groupby(\"epoch_number\").mean()\n",
    "loss_data.head()"
   ]
  },
  {
   "cell_type": "code",
   "execution_count": null,
   "metadata": {},
   "outputs": [],
   "source": [
    "\n",
    "plt.figure()\n",
    "plt.plot(loss_data['epoch_number'], loss_data['score_loss'], marker=\"o\", linestyle=\"--\")\n",
    "plt.ylabel(\"loss\")\n",
    "plt.savefig(\"experiment_plot/experiment_1_score_loss.png\")"
   ]
  }
 ],
 "metadata": {
  "kernelspec": {
   "display_name": "Python 3",
   "language": "python",
   "name": "python3"
  },
  "language_info": {
   "codemirror_mode": {
    "name": "ipython",
    "version": 3
   },
   "file_extension": ".py",
   "mimetype": "text/x-python",
   "name": "python",
   "nbconvert_exporter": "python",
   "pygments_lexer": "ipython3",
   "version": "3.7.4"
  }
 },
 "nbformat": 4,
 "nbformat_minor": 2
}
